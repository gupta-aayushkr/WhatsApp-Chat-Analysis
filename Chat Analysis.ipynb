{
 "cells": [
  {
   "cell_type": "code",
   "execution_count": 139,
   "metadata": {},
   "outputs": [],
   "source": [
    "import streamlit as st\n",
    "import pandas as pd\n",
    "import re\n",
    "from urlextract import URLExtract\n",
    "from wordcloud import WordCloud\n",
    "import pandas as pd\n",
    "from collections import Counter\n",
    "import emoji\n",
    "import matplotlib.pyplot as plt\n",
    "# import matplotlib\n",
    "# matplotlib.use('Agg')\n",
    "import plotly.express as px\n",
    "import seaborn as sns"
   ]
  },
  {
   "cell_type": "markdown",
   "metadata": {},
   "source": [
    "Validate Regex : https://regex101.com/"
   ]
  },
  {
   "cell_type": "markdown",
   "metadata": {},
   "source": [
    "# Data Cleaning"
   ]
  },
  {
   "cell_type": "code",
   "execution_count": 140,
   "metadata": {},
   "outputs": [],
   "source": [
    "# Closing the file in important for preventing data access later and for other programs to access the file also.\n",
    "f = open(\"_chat 3.txt\")\n",
    "data = f.read()\n",
    "f.close()"
   ]
  },
  {
   "cell_type": "code",
   "execution_count": 141,
   "metadata": {},
   "outputs": [],
   "source": [
    "# For AM, PM Formatted Time\n",
    "pattern = \"\\[\\d{1,2}/\\d{1,2}/\\d{1,2},\\s\\d{1,2}:\\d{1,2}:\\d{1,2}\\s[APap][Mm]\\]\\s\""
   ]
  },
  {
   "cell_type": "code",
   "execution_count": 142,
   "metadata": {},
   "outputs": [],
   "source": [
    "message = re.split(pattern, data)[1:]"
   ]
  },
  {
   "cell_type": "code",
   "execution_count": 143,
   "metadata": {},
   "outputs": [],
   "source": [
    "dates = re.findall(pattern, data)"
   ]
  },
  {
   "cell_type": "code",
   "execution_count": 144,
   "metadata": {},
   "outputs": [],
   "source": [
    "df = pd.DataFrame({'user_message':message, 'date':dates})"
   ]
  },
  {
   "cell_type": "markdown",
   "metadata": {},
   "source": [
    "- %d matches the day of the month.\n",
    "- %m matches the month.\n",
    "- %y matches the two-digit year.\n",
    "- %I matches the hour (12-hour clock).\n",
    "- %M matches the minutes.\n",
    "- %S matches the seconds.\n",
    "- %p matches \"AM\" or \"PM\" in a case-insensitive manner."
   ]
  },
  {
   "cell_type": "code",
   "execution_count": 145,
   "metadata": {},
   "outputs": [],
   "source": [
    "df['date'] = pd.to_datetime(df['date'],format='[%d/%m/%y, %I:%M:%S %p] ')"
   ]
  },
  {
   "cell_type": "code",
   "execution_count": 146,
   "metadata": {},
   "outputs": [
    {
     "data": {
      "text/html": [
       "<div>\n",
       "<style scoped>\n",
       "    .dataframe tbody tr th:only-of-type {\n",
       "        vertical-align: middle;\n",
       "    }\n",
       "\n",
       "    .dataframe tbody tr th {\n",
       "        vertical-align: top;\n",
       "    }\n",
       "\n",
       "    .dataframe thead th {\n",
       "        text-align: right;\n",
       "    }\n",
       "</style>\n",
       "<table border=\"1\" class=\"dataframe\">\n",
       "  <thead>\n",
       "    <tr style=\"text-align: right;\">\n",
       "      <th></th>\n",
       "      <th>user_message</th>\n",
       "      <th>date</th>\n",
       "    </tr>\n",
       "  </thead>\n",
       "  <tbody>\n",
       "    <tr>\n",
       "      <th>0</th>\n",
       "      <td>Blogging Masters Program: ‎Messages and calls ...</td>\n",
       "      <td>2019-08-07 14:44:43</td>\n",
       "    </tr>\n",
       "    <tr>\n",
       "      <th>1</th>\n",
       "      <td>Blogging Masters Program: ‎Group creator creat...</td>\n",
       "      <td>2019-08-07 14:44:43</td>\n",
       "    </tr>\n",
       "    <tr>\n",
       "      <th>2</th>\n",
       "      <td>Blogging Masters Program: ‎You were added\\n</td>\n",
       "      <td>2019-08-07 14:44:43</td>\n",
       "    </tr>\n",
       "    <tr>\n",
       "      <th>3</th>\n",
       "      <td>‪+91 70565 65602‬: ‎‪+91 70565 65602‬ left\\n‎</td>\n",
       "      <td>2022-04-14 13:13:17</td>\n",
       "    </tr>\n",
       "    <tr>\n",
       "      <th>4</th>\n",
       "      <td>Farhan Amit Sir: ‎image omitted\\n</td>\n",
       "      <td>2022-04-14 12:51:06</td>\n",
       "    </tr>\n",
       "    <tr>\n",
       "      <th>5</th>\n",
       "      <td>Ankit Bhai Ezoic: Ha\\n</td>\n",
       "      <td>2022-04-14 12:53:27</td>\n",
       "    </tr>\n",
       "    <tr>\n",
       "      <th>6</th>\n",
       "      <td>Farhan Amit Sir: Payment krne pr active ho jay...</td>\n",
       "      <td>2022-04-14 12:53:45</td>\n",
       "    </tr>\n",
       "    <tr>\n",
       "      <th>7</th>\n",
       "      <td>Ankit Bhai Ezoic: Nhi mat karna paisa atak jae...</td>\n",
       "      <td>2022-04-14 12:54:10</td>\n",
       "    </tr>\n",
       "    <tr>\n",
       "      <th>8</th>\n",
       "      <td>Farhan Amit Sir: Ye personal account hai disab...</td>\n",
       "      <td>2022-04-14 12:54:45</td>\n",
       "    </tr>\n",
       "    <tr>\n",
       "      <th>9</th>\n",
       "      <td>Farhan Amit Sir: ‎image omitted\\n</td>\n",
       "      <td>2022-04-14 12:55:18</td>\n",
       "    </tr>\n",
       "  </tbody>\n",
       "</table>\n",
       "</div>"
      ],
      "text/plain": [
       "                                        user_message                date\n",
       "0  Blogging Masters Program: ‎Messages and calls ... 2019-08-07 14:44:43\n",
       "1  Blogging Masters Program: ‎Group creator creat... 2019-08-07 14:44:43\n",
       "2        Blogging Masters Program: ‎You were added\\n 2019-08-07 14:44:43\n",
       "3      ‪+91 70565 65602‬: ‎‪+91 70565 65602‬ left\\n‎ 2022-04-14 13:13:17\n",
       "4                  Farhan Amit Sir: ‎image omitted\\n 2022-04-14 12:51:06\n",
       "5                             Ankit Bhai Ezoic: Ha\\n 2022-04-14 12:53:27\n",
       "6  Farhan Amit Sir: Payment krne pr active ho jay... 2022-04-14 12:53:45\n",
       "7  Ankit Bhai Ezoic: Nhi mat karna paisa atak jae... 2022-04-14 12:54:10\n",
       "8  Farhan Amit Sir: Ye personal account hai disab... 2022-04-14 12:54:45\n",
       "9                  Farhan Amit Sir: ‎image omitted\\n 2022-04-14 12:55:18"
      ]
     },
     "execution_count": 146,
     "metadata": {},
     "output_type": "execute_result"
    }
   ],
   "source": [
    "df.head(10)"
   ]
  },
  {
   "cell_type": "code",
   "execution_count": 147,
   "metadata": {},
   "outputs": [
    {
     "data": {
      "text/plain": [
       "(1324, 2)"
      ]
     },
     "execution_count": 147,
     "metadata": {},
     "output_type": "execute_result"
    }
   ],
   "source": [
    "df.shape"
   ]
  },
  {
   "cell_type": "code",
   "execution_count": 148,
   "metadata": {},
   "outputs": [],
   "source": [
    "# Separting user and message\n",
    "users = []\n",
    "messages = []\n",
    "for message in df['user_message']:\n",
    "    line = re.split('([\\w\\W]+?):\\s', message)\n",
    "    users.append(line[1])\n",
    "    messages.append(line[2])\n",
    "df['user'] = users\n",
    "df['message'] = messages\n",
    "df.drop(columns='user_message', inplace=True)"
   ]
  },
  {
   "cell_type": "code",
   "execution_count": 149,
   "metadata": {},
   "outputs": [
    {
     "data": {
      "text/html": [
       "<div>\n",
       "<style scoped>\n",
       "    .dataframe tbody tr th:only-of-type {\n",
       "        vertical-align: middle;\n",
       "    }\n",
       "\n",
       "    .dataframe tbody tr th {\n",
       "        vertical-align: top;\n",
       "    }\n",
       "\n",
       "    .dataframe thead th {\n",
       "        text-align: right;\n",
       "    }\n",
       "</style>\n",
       "<table border=\"1\" class=\"dataframe\">\n",
       "  <thead>\n",
       "    <tr style=\"text-align: right;\">\n",
       "      <th></th>\n",
       "      <th>date</th>\n",
       "      <th>user</th>\n",
       "      <th>message</th>\n",
       "    </tr>\n",
       "  </thead>\n",
       "  <tbody>\n",
       "    <tr>\n",
       "      <th>0</th>\n",
       "      <td>2019-08-07 14:44:43</td>\n",
       "      <td>Blogging Masters Program</td>\n",
       "      <td>‎Messages and calls are end-to-end encrypted. ...</td>\n",
       "    </tr>\n",
       "    <tr>\n",
       "      <th>1</th>\n",
       "      <td>2019-08-07 14:44:43</td>\n",
       "      <td>Blogging Masters Program</td>\n",
       "      <td>‎Group creator created this group\\n</td>\n",
       "    </tr>\n",
       "    <tr>\n",
       "      <th>2</th>\n",
       "      <td>2019-08-07 14:44:43</td>\n",
       "      <td>Blogging Masters Program</td>\n",
       "      <td>‎You were added\\n</td>\n",
       "    </tr>\n",
       "    <tr>\n",
       "      <th>3</th>\n",
       "      <td>2022-04-14 13:13:17</td>\n",
       "      <td>‪+91 70565 65602‬</td>\n",
       "      <td>‎‪+91 70565 65602‬ left\\n‎</td>\n",
       "    </tr>\n",
       "    <tr>\n",
       "      <th>4</th>\n",
       "      <td>2022-04-14 12:51:06</td>\n",
       "      <td>Farhan Amit Sir</td>\n",
       "      <td>‎image omitted\\n</td>\n",
       "    </tr>\n",
       "  </tbody>\n",
       "</table>\n",
       "</div>"
      ],
      "text/plain": [
       "                 date                      user  \\\n",
       "0 2019-08-07 14:44:43  Blogging Masters Program   \n",
       "1 2019-08-07 14:44:43  Blogging Masters Program   \n",
       "2 2019-08-07 14:44:43  Blogging Masters Program   \n",
       "3 2022-04-14 13:13:17         ‪+91 70565 65602‬   \n",
       "4 2022-04-14 12:51:06           Farhan Amit Sir   \n",
       "\n",
       "                                             message  \n",
       "0  ‎Messages and calls are end-to-end encrypted. ...  \n",
       "1                ‎Group creator created this group\\n  \n",
       "2                                  ‎You were added\\n  \n",
       "3                         ‎‪+91 70565 65602‬ left\\n‎  \n",
       "4                                   ‎image omitted\\n  "
      ]
     },
     "execution_count": 149,
     "metadata": {},
     "output_type": "execute_result"
    }
   ],
   "source": [
    "df.head()"
   ]
  },
  {
   "cell_type": "code",
   "execution_count": 150,
   "metadata": {},
   "outputs": [
    {
     "data": {
      "text/plain": [
       "date       0\n",
       "user       0\n",
       "message    0\n",
       "dtype: int64"
      ]
     },
     "execution_count": 150,
     "metadata": {},
     "output_type": "execute_result"
    }
   ],
   "source": [
    "df.isnull().sum()"
   ]
  },
  {
   "cell_type": "code",
   "execution_count": 151,
   "metadata": {},
   "outputs": [],
   "source": [
    "#Extracting Years, Months, Days\n",
    "df['year'] = df['date'].dt.year\n",
    "df['month'] = df['date'].dt.month_name()\n",
    "df['day'] = df['date'].dt.day\n",
    "df['hour'] = df['date'].dt.hour\n",
    "df['minute'] = df['date'].dt.minute"
   ]
  },
  {
   "cell_type": "code",
   "execution_count": 152,
   "metadata": {},
   "outputs": [
    {
     "data": {
      "text/html": [
       "<div>\n",
       "<style scoped>\n",
       "    .dataframe tbody tr th:only-of-type {\n",
       "        vertical-align: middle;\n",
       "    }\n",
       "\n",
       "    .dataframe tbody tr th {\n",
       "        vertical-align: top;\n",
       "    }\n",
       "\n",
       "    .dataframe thead th {\n",
       "        text-align: right;\n",
       "    }\n",
       "</style>\n",
       "<table border=\"1\" class=\"dataframe\">\n",
       "  <thead>\n",
       "    <tr style=\"text-align: right;\">\n",
       "      <th></th>\n",
       "      <th>date</th>\n",
       "      <th>user</th>\n",
       "      <th>message</th>\n",
       "      <th>year</th>\n",
       "      <th>month</th>\n",
       "      <th>day</th>\n",
       "      <th>hour</th>\n",
       "      <th>minute</th>\n",
       "    </tr>\n",
       "  </thead>\n",
       "  <tbody>\n",
       "    <tr>\n",
       "      <th>0</th>\n",
       "      <td>2019-08-07 14:44:43</td>\n",
       "      <td>Blogging Masters Program</td>\n",
       "      <td>‎Messages and calls are end-to-end encrypted. ...</td>\n",
       "      <td>2019</td>\n",
       "      <td>August</td>\n",
       "      <td>7</td>\n",
       "      <td>14</td>\n",
       "      <td>44</td>\n",
       "    </tr>\n",
       "    <tr>\n",
       "      <th>1</th>\n",
       "      <td>2019-08-07 14:44:43</td>\n",
       "      <td>Blogging Masters Program</td>\n",
       "      <td>‎Group creator created this group\\n</td>\n",
       "      <td>2019</td>\n",
       "      <td>August</td>\n",
       "      <td>7</td>\n",
       "      <td>14</td>\n",
       "      <td>44</td>\n",
       "    </tr>\n",
       "    <tr>\n",
       "      <th>2</th>\n",
       "      <td>2019-08-07 14:44:43</td>\n",
       "      <td>Blogging Masters Program</td>\n",
       "      <td>‎You were added\\n</td>\n",
       "      <td>2019</td>\n",
       "      <td>August</td>\n",
       "      <td>7</td>\n",
       "      <td>14</td>\n",
       "      <td>44</td>\n",
       "    </tr>\n",
       "    <tr>\n",
       "      <th>3</th>\n",
       "      <td>2022-04-14 13:13:17</td>\n",
       "      <td>‪+91 70565 65602‬</td>\n",
       "      <td>‎‪+91 70565 65602‬ left\\n‎</td>\n",
       "      <td>2022</td>\n",
       "      <td>April</td>\n",
       "      <td>14</td>\n",
       "      <td>13</td>\n",
       "      <td>13</td>\n",
       "    </tr>\n",
       "    <tr>\n",
       "      <th>4</th>\n",
       "      <td>2022-04-14 12:51:06</td>\n",
       "      <td>Farhan Amit Sir</td>\n",
       "      <td>‎image omitted\\n</td>\n",
       "      <td>2022</td>\n",
       "      <td>April</td>\n",
       "      <td>14</td>\n",
       "      <td>12</td>\n",
       "      <td>51</td>\n",
       "    </tr>\n",
       "    <tr>\n",
       "      <th>5</th>\n",
       "      <td>2022-04-14 12:53:27</td>\n",
       "      <td>Ankit Bhai Ezoic</td>\n",
       "      <td>Ha\\n</td>\n",
       "      <td>2022</td>\n",
       "      <td>April</td>\n",
       "      <td>14</td>\n",
       "      <td>12</td>\n",
       "      <td>53</td>\n",
       "    </tr>\n",
       "    <tr>\n",
       "      <th>6</th>\n",
       "      <td>2022-04-14 12:53:45</td>\n",
       "      <td>Farhan Amit Sir</td>\n",
       "      <td>Payment krne pr active ho jayega kya\\n</td>\n",
       "      <td>2022</td>\n",
       "      <td>April</td>\n",
       "      <td>14</td>\n",
       "      <td>12</td>\n",
       "      <td>53</td>\n",
       "    </tr>\n",
       "    <tr>\n",
       "      <th>7</th>\n",
       "      <td>2022-04-14 12:54:10</td>\n",
       "      <td>Ankit Bhai Ezoic</td>\n",
       "      <td>Nhi mat karna paisa atak jaega\\n</td>\n",
       "      <td>2022</td>\n",
       "      <td>April</td>\n",
       "      <td>14</td>\n",
       "      <td>12</td>\n",
       "      <td>54</td>\n",
       "    </tr>\n",
       "    <tr>\n",
       "      <th>8</th>\n",
       "      <td>2022-04-14 12:54:45</td>\n",
       "      <td>Farhan Amit Sir</td>\n",
       "      <td>Ye personal account hai disabled ho gya hai bu...</td>\n",
       "      <td>2022</td>\n",
       "      <td>April</td>\n",
       "      <td>14</td>\n",
       "      <td>12</td>\n",
       "      <td>54</td>\n",
       "    </tr>\n",
       "    <tr>\n",
       "      <th>9</th>\n",
       "      <td>2022-04-14 12:55:18</td>\n",
       "      <td>Farhan Amit Sir</td>\n",
       "      <td>‎image omitted\\n</td>\n",
       "      <td>2022</td>\n",
       "      <td>April</td>\n",
       "      <td>14</td>\n",
       "      <td>12</td>\n",
       "      <td>55</td>\n",
       "    </tr>\n",
       "  </tbody>\n",
       "</table>\n",
       "</div>"
      ],
      "text/plain": [
       "                 date                      user  \\\n",
       "0 2019-08-07 14:44:43  Blogging Masters Program   \n",
       "1 2019-08-07 14:44:43  Blogging Masters Program   \n",
       "2 2019-08-07 14:44:43  Blogging Masters Program   \n",
       "3 2022-04-14 13:13:17         ‪+91 70565 65602‬   \n",
       "4 2022-04-14 12:51:06           Farhan Amit Sir   \n",
       "5 2022-04-14 12:53:27          Ankit Bhai Ezoic   \n",
       "6 2022-04-14 12:53:45           Farhan Amit Sir   \n",
       "7 2022-04-14 12:54:10          Ankit Bhai Ezoic   \n",
       "8 2022-04-14 12:54:45           Farhan Amit Sir   \n",
       "9 2022-04-14 12:55:18           Farhan Amit Sir   \n",
       "\n",
       "                                             message  year   month  day  hour  \\\n",
       "0  ‎Messages and calls are end-to-end encrypted. ...  2019  August    7    14   \n",
       "1                ‎Group creator created this group\\n  2019  August    7    14   \n",
       "2                                  ‎You were added\\n  2019  August    7    14   \n",
       "3                         ‎‪+91 70565 65602‬ left\\n‎  2022   April   14    13   \n",
       "4                                   ‎image omitted\\n  2022   April   14    12   \n",
       "5                                               Ha\\n  2022   April   14    12   \n",
       "6             Payment krne pr active ho jayega kya\\n  2022   April   14    12   \n",
       "7                   Nhi mat karna paisa atak jaega\\n  2022   April   14    12   \n",
       "8  Ye personal account hai disabled ho gya hai bu...  2022   April   14    12   \n",
       "9                                   ‎image omitted\\n  2022   April   14    12   \n",
       "\n",
       "   minute  \n",
       "0      44  \n",
       "1      44  \n",
       "2      44  \n",
       "3      13  \n",
       "4      51  \n",
       "5      53  \n",
       "6      53  \n",
       "7      54  \n",
       "8      54  \n",
       "9      55  "
      ]
     },
     "execution_count": 152,
     "metadata": {},
     "output_type": "execute_result"
    }
   ],
   "source": [
    "df.head(10)"
   ]
  },
  {
   "cell_type": "code",
   "execution_count": 153,
   "metadata": {},
   "outputs": [
    {
     "name": "stdout",
     "output_type": "stream",
     "text": [
      "['\\u202a+91\\xa070565\\xa065602\\u202c', 'Farhan Amit Sir', 'Ankit Bhai Ezoic', '~\\u202fPranay Meshram', '~\\u202fTaqui', 'Amit Mishra', '~\\u202fBanti Pataskar', 'Riddhish Chaudhari', '~\\u202fSaptarshi dhar', '~\\u202fAmit', '~\\u202fKhushi', '~\\u202fThe Uttam Gupta | Digital Marketing Services Company', '~\\u202fFeroz Khan', '~\\u202fAg', '~\\u202fSatya Narayan Nandi', '~\\u202fMr.', '~\\u202fRashpreet Singh Ji', '~\\u202fAnkit Chaudhary', '~\\u202fHave Passion', '~\\u202fRavinder S Negi', '~\\u202fBhaskar Kushwaha', '~\\u202fSwapnil Bendale', '~\\u202fKeep Going!', '~\\u202fSankalp Arora', '~\\u202fMohib', '~\\u202fRishabh Shrivastava', '~\\u202fManoj Goel Technical Marketer', '~\\u202fUm', '~\\u202fSHAMIYA KHAN PATTAN', '\\u202a+91\\xa099718\\xa074320\\u202c', '~\\u202fGurwinder Sekhon', '~\\u202fSanjay Y', '~\\u202fabhay🔥', '~\\u202fVipul', '\\u202a+91\\xa095100\\xa046646\\u202c', '~\\u202fNomad Baba 👣🌍', '~\\u202fDhruv Purwar', '~\\u202fBharat Go Digital', '~\\u202f.', '~\\u202f~~¶•¶✓', '~\\u202fOM Prakash', '~\\u202fFS', '~\\u202fMohit', '~\\u202fZeeshan', '~\\u202fHoney', '\\u202a+91\\xa082075\\xa005280\\u202c', '~\\u202fSonal', '~\\u202fRichard Bose', '~\\u202fNishant', '\\u202a+91\\xa086957\\xa044064\\u202c', '~\\u202fसोला दूणी आठ', '~\\u202fPraveen Rai', '~\\u202fHimanshu Gupta', '~\\u202fShubham Verma', '~\\u202fVasim Khan', '~\\u202fKahuna', '~\\u202fKaran Trivedi', '~\\u202fMahendra K Khunt', 'Amit Sir Grp Member 1', '~\\u202fPraveen.', '~\\u202fBeton', '~\\u202fHarsh', '~\\u202fMH 32 Traveller', '~\\u202fVinod Gupta', '~\\u202fMayank Patel', '~\\u202fKarmicbuzz Spirituality', '~\\u202fPraveen', '~\\u202fRajat', '~\\u202fPrasenjit Dey', '~\\u202fChetan Rakheja', '~\\u202fSarbjit Singh', '~\\u202f◡̈⃝Shivam', '~\\u202fSayed', '\\u202a+91\\xa06393\\xa0690\\xa0905\\u202c', '~\\u202fYogesh', '~\\u202fUtkarsh Naik', '~\\u202fKoushik', '~\\u202fTejeshwer', '~\\u202fParas', '~\\u202fAvijit', '~\\u202fms', '~\\u202fRam Anuj Mishra', '~\\u202fPankaj Goyal', '\\u202a+91\\xa090268\\xa068613\\u202c', '~\\u202fAnjali', '~\\u202fSocial Worker', '~\\u202fAbhishek', '~\\u202f👑Vaibhav Gurav 👑', '~\\u202fRahul Upase', '~\\u202fAmbesh Tiwari', '~\\u202fAjay Yadav', '~\\u202fGauri Dutt', '~\\u202fDigital Pankaj', '~\\u202fPknumbhral', '~\\u202fM', 'Aayush', '~\\u202fS Λ J Λ N S H Λ H', '~\\u202fSagar', '~\\u202fSumant Lohar', '\\u202a+880\\xa01914‑201802\\u202c', '~\\u202fabhinv', '~\\u202fPradeep Kumar', '~\\u202fTayyab', '~\\u202f..', '~\\u202fAkash Nayak', '~\\u202fS M Ali Abidi', '~\\u202fNirbhay Khaire', '~\\u202fRudra Singh', '~\\u202fMichiel Grotenhuis', '\\u202a+91\\xa094475\\xa033001\\u202c', '~\\u202fRupesh Sethi']\n"
     ]
    }
   ],
   "source": [
    "# Removeing Group Name it's alays at postion 0\n",
    "users_list = df[\"user\"].unique().tolist()\n",
    "if len(users_list) > 2:\n",
    "    users_list.remove(users_list[0])\n",
    "print(users_list)"
   ]
  },
  {
   "cell_type": "markdown",
   "metadata": {},
   "source": [
    "# Exploratory Data Analysis"
   ]
  },
  {
   "cell_type": "code",
   "execution_count": 154,
   "metadata": {},
   "outputs": [],
   "source": [
    "users_list = df[\"user\"].unique().tolist()"
   ]
  },
  {
   "cell_type": "code",
   "execution_count": 155,
   "metadata": {},
   "outputs": [
    {
     "name": "stdout",
     "output_type": "stream",
     "text": [
      "<class 'pandas.core.frame.DataFrame'>\n",
      "RangeIndex: 1324 entries, 0 to 1323\n",
      "Data columns (total 8 columns):\n",
      " #   Column   Non-Null Count  Dtype         \n",
      "---  ------   --------------  -----         \n",
      " 0   date     1324 non-null   datetime64[ns]\n",
      " 1   user     1324 non-null   object        \n",
      " 2   message  1324 non-null   object        \n",
      " 3   year     1324 non-null   int32         \n",
      " 4   month    1324 non-null   object        \n",
      " 5   day      1324 non-null   int32         \n",
      " 6   hour     1324 non-null   int32         \n",
      " 7   minute   1324 non-null   int32         \n",
      "dtypes: datetime64[ns](1), int32(4), object(3)\n",
      "memory usage: 62.2+ KB\n"
     ]
    }
   ],
   "source": [
    "df.info()"
   ]
  },
  {
   "cell_type": "code",
   "execution_count": 156,
   "metadata": {},
   "outputs": [],
   "source": [
    "selected_user = 'Aayush'"
   ]
  },
  {
   "cell_type": "code",
   "execution_count": 157,
   "metadata": {},
   "outputs": [
    {
     "data": {
      "text/plain": [
       "2"
      ]
     },
     "execution_count": 157,
     "metadata": {},
     "output_type": "execute_result"
    }
   ],
   "source": [
    "len(df[df[\"user\"] == selected_user][\"message\"])"
   ]
  },
  {
   "cell_type": "code",
   "execution_count": 158,
   "metadata": {},
   "outputs": [
    {
     "data": {
      "text/plain": [
       "25"
      ]
     },
     "execution_count": 158,
     "metadata": {},
     "output_type": "execute_result"
    }
   ],
   "source": [
    "words = []\n",
    "for word in df[df[\"user\"]==selected_user][\"message\"]:\n",
    "    for i in word.split():\n",
    "        words.append(i)\n",
    "num_words = len(words)\n",
    "num_words"
   ]
  },
  {
   "cell_type": "markdown",
   "metadata": {},
   "source": [
    "### Media shared in group"
   ]
  },
  {
   "cell_type": "code",
   "execution_count": 159,
   "metadata": {},
   "outputs": [
    {
     "data": {
      "text/html": [
       "<div>\n",
       "<style scoped>\n",
       "    .dataframe tbody tr th:only-of-type {\n",
       "        vertical-align: middle;\n",
       "    }\n",
       "\n",
       "    .dataframe tbody tr th {\n",
       "        vertical-align: top;\n",
       "    }\n",
       "\n",
       "    .dataframe thead th {\n",
       "        text-align: right;\n",
       "    }\n",
       "</style>\n",
       "<table border=\"1\" class=\"dataframe\">\n",
       "  <thead>\n",
       "    <tr style=\"text-align: right;\">\n",
       "      <th></th>\n",
       "      <th>message</th>\n",
       "      <th>count</th>\n",
       "    </tr>\n",
       "  </thead>\n",
       "  <tbody>\n",
       "    <tr>\n",
       "      <th>0</th>\n",
       "      <td>‎image omitted\\n</td>\n",
       "      <td>63</td>\n",
       "    </tr>\n",
       "    <tr>\n",
       "      <th>1</th>\n",
       "      <td>‎image omitted\\n‎</td>\n",
       "      <td>16</td>\n",
       "    </tr>\n",
       "    <tr>\n",
       "      <th>2</th>\n",
       "      <td>‎audio omitted\\n</td>\n",
       "      <td>5</td>\n",
       "    </tr>\n",
       "    <tr>\n",
       "      <th>3</th>\n",
       "      <td>‎video omitted\\n</td>\n",
       "      <td>3</td>\n",
       "    </tr>\n",
       "    <tr>\n",
       "      <th>4</th>\n",
       "      <td>YouTube-Thumbnails.pdf • ‎9 pages ‎document om...</td>\n",
       "      <td>1</td>\n",
       "    </tr>\n",
       "    <tr>\n",
       "      <th>5</th>\n",
       "      <td>Skill Achievers Brochure (2).pdf • ‎15 pages ‎...</td>\n",
       "      <td>1</td>\n",
       "    </tr>\n",
       "    <tr>\n",
       "      <th>6</th>\n",
       "      <td>‎sticker omitted\\n</td>\n",
       "      <td>1</td>\n",
       "    </tr>\n",
       "    <tr>\n",
       "      <th>7</th>\n",
       "      <td>‎sticker omitted\\n‎</td>\n",
       "      <td>1</td>\n",
       "    </tr>\n",
       "    <tr>\n",
       "      <th>8</th>\n",
       "      <td>‎audio omitted\\n‎</td>\n",
       "      <td>1</td>\n",
       "    </tr>\n",
       "    <tr>\n",
       "      <th>9</th>\n",
       "      <td>‎video omitted\\n‎</td>\n",
       "      <td>1</td>\n",
       "    </tr>\n",
       "  </tbody>\n",
       "</table>\n",
       "</div>"
      ],
      "text/plain": [
       "                                             message  count\n",
       "0                                   ‎image omitted\\n     63\n",
       "1                                  ‎image omitted\\n‎     16\n",
       "2                                   ‎audio omitted\\n      5\n",
       "3                                   ‎video omitted\\n      3\n",
       "4  YouTube-Thumbnails.pdf • ‎9 pages ‎document om...      1\n",
       "5  Skill Achievers Brochure (2).pdf • ‎15 pages ‎...      1\n",
       "6                                 ‎sticker omitted\\n      1\n",
       "7                                ‎sticker omitted\\n‎      1\n",
       "8                                  ‎audio omitted\\n‎      1\n",
       "9                                  ‎video omitted\\n‎      1"
      ]
     },
     "execution_count": 159,
     "metadata": {},
     "output_type": "execute_result"
    }
   ],
   "source": [
    "df[df[\"message\"].str.contains(r'omitted',case=False, regex=True)][\"message\"].value_counts().reset_index().head(10)"
   ]
  },
  {
   "cell_type": "code",
   "execution_count": 160,
   "metadata": {},
   "outputs": [
    {
     "data": {
      "text/plain": [
       "93"
      ]
     },
     "execution_count": 160,
     "metadata": {},
     "output_type": "execute_result"
    }
   ],
   "source": [
    "df[df[\"message\"].str.contains(r'omitted',case=False, regex=True)][\"message\"].value_counts().sum()"
   ]
  },
  {
   "cell_type": "markdown",
   "metadata": {},
   "source": [
    "### Most active users"
   ]
  },
  {
   "cell_type": "code",
   "execution_count": 161,
   "metadata": {},
   "outputs": [],
   "source": [
    "active_users = df[\"user\"].value_counts()[df[\"user\"].value_counts()>10].reset_index()"
   ]
  },
  {
   "cell_type": "code",
   "execution_count": 162,
   "metadata": {},
   "outputs": [
    {
     "data": {
      "text/html": [
       "<div>\n",
       "<style scoped>\n",
       "    .dataframe tbody tr th:only-of-type {\n",
       "        vertical-align: middle;\n",
       "    }\n",
       "\n",
       "    .dataframe tbody tr th {\n",
       "        vertical-align: top;\n",
       "    }\n",
       "\n",
       "    .dataframe thead th {\n",
       "        text-align: right;\n",
       "    }\n",
       "</style>\n",
       "<table border=\"1\" class=\"dataframe\">\n",
       "  <thead>\n",
       "    <tr style=\"text-align: right;\">\n",
       "      <th></th>\n",
       "      <th>user</th>\n",
       "      <th>count</th>\n",
       "    </tr>\n",
       "  </thead>\n",
       "  <tbody>\n",
       "    <tr>\n",
       "      <th>0</th>\n",
       "      <td>Amit Mishra</td>\n",
       "      <td>255</td>\n",
       "    </tr>\n",
       "    <tr>\n",
       "      <th>1</th>\n",
       "      <td>~ Satya Narayan Nandi</td>\n",
       "      <td>110</td>\n",
       "    </tr>\n",
       "    <tr>\n",
       "      <th>2</th>\n",
       "      <td>~ Mohib</td>\n",
       "      <td>76</td>\n",
       "    </tr>\n",
       "    <tr>\n",
       "      <th>3</th>\n",
       "      <td>Riddhish Chaudhari</td>\n",
       "      <td>70</td>\n",
       "    </tr>\n",
       "    <tr>\n",
       "      <th>4</th>\n",
       "      <td>~ The Uttam Gupta | Digital Marketing Services...</td>\n",
       "      <td>54</td>\n",
       "    </tr>\n",
       "    <tr>\n",
       "      <th>5</th>\n",
       "      <td>~ Ravinder S Negi</td>\n",
       "      <td>54</td>\n",
       "    </tr>\n",
       "    <tr>\n",
       "      <th>6</th>\n",
       "      <td>~ Karmicbuzz Spirituality</td>\n",
       "      <td>50</td>\n",
       "    </tr>\n",
       "    <tr>\n",
       "      <th>7</th>\n",
       "      <td>~ Amit</td>\n",
       "      <td>45</td>\n",
       "    </tr>\n",
       "    <tr>\n",
       "      <th>8</th>\n",
       "      <td>~ Honey</td>\n",
       "      <td>28</td>\n",
       "    </tr>\n",
       "    <tr>\n",
       "      <th>9</th>\n",
       "      <td>~ Have Passion</td>\n",
       "      <td>27</td>\n",
       "    </tr>\n",
       "    <tr>\n",
       "      <th>10</th>\n",
       "      <td>~ Swapnil Bendale</td>\n",
       "      <td>26</td>\n",
       "    </tr>\n",
       "    <tr>\n",
       "      <th>11</th>\n",
       "      <td>~ Sayed</td>\n",
       "      <td>26</td>\n",
       "    </tr>\n",
       "    <tr>\n",
       "      <th>12</th>\n",
       "      <td>~ Nishant</td>\n",
       "      <td>23</td>\n",
       "    </tr>\n",
       "    <tr>\n",
       "      <th>13</th>\n",
       "      <td>~ Feroz Khan</td>\n",
       "      <td>20</td>\n",
       "    </tr>\n",
       "    <tr>\n",
       "      <th>14</th>\n",
       "      <td>~ abhay🔥</td>\n",
       "      <td>20</td>\n",
       "    </tr>\n",
       "    <tr>\n",
       "      <th>15</th>\n",
       "      <td>~ Saptarshi dhar</td>\n",
       "      <td>19</td>\n",
       "    </tr>\n",
       "    <tr>\n",
       "      <th>16</th>\n",
       "      <td>~ Banti Pataskar</td>\n",
       "      <td>18</td>\n",
       "    </tr>\n",
       "    <tr>\n",
       "      <th>17</th>\n",
       "      <td>~ Praveen</td>\n",
       "      <td>17</td>\n",
       "    </tr>\n",
       "    <tr>\n",
       "      <th>18</th>\n",
       "      <td>~ Utkarsh Naik</td>\n",
       "      <td>15</td>\n",
       "    </tr>\n",
       "    <tr>\n",
       "      <th>19</th>\n",
       "      <td>~ Ankit Chaudhary</td>\n",
       "      <td>14</td>\n",
       "    </tr>\n",
       "    <tr>\n",
       "      <th>20</th>\n",
       "      <td>~ SHAMIYA KHAN PATTAN</td>\n",
       "      <td>13</td>\n",
       "    </tr>\n",
       "    <tr>\n",
       "      <th>21</th>\n",
       "      <td>~ Pranay Meshram</td>\n",
       "      <td>12</td>\n",
       "    </tr>\n",
       "    <tr>\n",
       "      <th>22</th>\n",
       "      <td>~ Sanjay Y</td>\n",
       "      <td>12</td>\n",
       "    </tr>\n",
       "    <tr>\n",
       "      <th>23</th>\n",
       "      <td>~ Nomad Baba 👣🌍</td>\n",
       "      <td>11</td>\n",
       "    </tr>\n",
       "    <tr>\n",
       "      <th>24</th>\n",
       "      <td>~ .</td>\n",
       "      <td>11</td>\n",
       "    </tr>\n",
       "    <tr>\n",
       "      <th>25</th>\n",
       "      <td>~ Kahuna</td>\n",
       "      <td>11</td>\n",
       "    </tr>\n",
       "    <tr>\n",
       "      <th>26</th>\n",
       "      <td>~ S M Ali Abidi</td>\n",
       "      <td>11</td>\n",
       "    </tr>\n",
       "    <tr>\n",
       "      <th>27</th>\n",
       "      <td>~ Ag</td>\n",
       "      <td>11</td>\n",
       "    </tr>\n",
       "  </tbody>\n",
       "</table>\n",
       "</div>"
      ],
      "text/plain": [
       "                                                 user  count\n",
       "0                                         Amit Mishra    255\n",
       "1                               ~ Satya Narayan Nandi    110\n",
       "2                                             ~ Mohib     76\n",
       "3                                  Riddhish Chaudhari     70\n",
       "4   ~ The Uttam Gupta | Digital Marketing Services...     54\n",
       "5                                   ~ Ravinder S Negi     54\n",
       "6                           ~ Karmicbuzz Spirituality     50\n",
       "7                                              ~ Amit     45\n",
       "8                                             ~ Honey     28\n",
       "9                                      ~ Have Passion     27\n",
       "10                                  ~ Swapnil Bendale     26\n",
       "11                                            ~ Sayed     26\n",
       "12                                          ~ Nishant     23\n",
       "13                                       ~ Feroz Khan     20\n",
       "14                                           ~ abhay🔥     20\n",
       "15                                   ~ Saptarshi dhar     19\n",
       "16                                   ~ Banti Pataskar     18\n",
       "17                                          ~ Praveen     17\n",
       "18                                     ~ Utkarsh Naik     15\n",
       "19                                  ~ Ankit Chaudhary     14\n",
       "20                              ~ SHAMIYA KHAN PATTAN     13\n",
       "21                                   ~ Pranay Meshram     12\n",
       "22                                         ~ Sanjay Y     12\n",
       "23                                    ~ Nomad Baba 👣🌍     11\n",
       "24                                                ~ .     11\n",
       "25                                           ~ Kahuna     11\n",
       "26                                    ~ S M Ali Abidi     11\n",
       "27                                               ~ Ag     11"
      ]
     },
     "execution_count": 162,
     "metadata": {},
     "output_type": "execute_result"
    }
   ],
   "source": [
    "active_users"
   ]
  },
  {
   "cell_type": "code",
   "execution_count": 163,
   "metadata": {},
   "outputs": [
    {
     "name": "stderr",
     "output_type": "stream",
     "text": [
      "/Users/aayushgupta/Library/Python/3.10/lib/python/site-packages/IPython/core/pylabtools.py:152: UserWarning:\n",
      "\n",
      "Glyph 128293 (\\N{FIRE}) missing from current font.\n",
      "\n",
      "/Users/aayushgupta/Library/Python/3.10/lib/python/site-packages/IPython/core/pylabtools.py:152: UserWarning:\n",
      "\n",
      "Glyph 128099 (\\N{FOOTPRINTS}) missing from current font.\n",
      "\n",
      "/Users/aayushgupta/Library/Python/3.10/lib/python/site-packages/IPython/core/pylabtools.py:152: UserWarning:\n",
      "\n",
      "Glyph 127757 (\\N{EARTH GLOBE EUROPE-AFRICA}) missing from current font.\n",
      "\n"
     ]
    },
    {
     "data": {
      "image/png": "[encoded data removed]",
      "text/plain": [
       "<Figure size 640x480 with 1 Axes>"
      ]
     },
     "metadata": {},
     "output_type": "display_data"
    }
   ],
   "source": [
    "active_plot = plt.bar(active_users[\"user\"], active_users[\"count\"])\n",
    "plt.xticks(rotation=\"vertical\")\n",
    "plt.show()"
   ]
  },
  {
   "cell_type": "markdown",
   "metadata": {},
   "source": [
    "Conclusion: Most active user in Nilay"
   ]
  },
  {
   "cell_type": "markdown",
   "metadata": {},
   "source": [
    "### Msg Sent based on percent"
   ]
  },
  {
   "cell_type": "code",
   "execution_count": 164,
   "metadata": {},
   "outputs": [
    {
     "data": {
      "text/html": [
       "<div>\n",
       "<style scoped>\n",
       "    .dataframe tbody tr th:only-of-type {\n",
       "        vertical-align: middle;\n",
       "    }\n",
       "\n",
       "    .dataframe tbody tr th {\n",
       "        vertical-align: top;\n",
       "    }\n",
       "\n",
       "    .dataframe thead th {\n",
       "        text-align: right;\n",
       "    }\n",
       "</style>\n",
       "<table border=\"1\" class=\"dataframe\">\n",
       "  <thead>\n",
       "    <tr style=\"text-align: right;\">\n",
       "      <th></th>\n",
       "      <th>Name</th>\n",
       "      <th>Percent</th>\n",
       "    </tr>\n",
       "  </thead>\n",
       "  <tbody>\n",
       "    <tr>\n",
       "      <th>0</th>\n",
       "      <td>Amit Mishra</td>\n",
       "      <td>19.0</td>\n",
       "    </tr>\n",
       "    <tr>\n",
       "      <th>1</th>\n",
       "      <td>~ Satya Narayan Nandi</td>\n",
       "      <td>8.0</td>\n",
       "    </tr>\n",
       "    <tr>\n",
       "      <th>2</th>\n",
       "      <td>~ Mohib</td>\n",
       "      <td>6.0</td>\n",
       "    </tr>\n",
       "    <tr>\n",
       "      <th>3</th>\n",
       "      <td>Riddhish Chaudhari</td>\n",
       "      <td>5.0</td>\n",
       "    </tr>\n",
       "    <tr>\n",
       "      <th>4</th>\n",
       "      <td>~ The Uttam Gupta | Digital Marketing Services...</td>\n",
       "      <td>4.0</td>\n",
       "    </tr>\n",
       "    <tr>\n",
       "      <th>5</th>\n",
       "      <td>~ Ravinder S Negi</td>\n",
       "      <td>4.0</td>\n",
       "    </tr>\n",
       "    <tr>\n",
       "      <th>6</th>\n",
       "      <td>~ Karmicbuzz Spirituality</td>\n",
       "      <td>4.0</td>\n",
       "    </tr>\n",
       "    <tr>\n",
       "      <th>7</th>\n",
       "      <td>~ Amit</td>\n",
       "      <td>3.0</td>\n",
       "    </tr>\n",
       "    <tr>\n",
       "      <th>8</th>\n",
       "      <td>~ Honey</td>\n",
       "      <td>2.0</td>\n",
       "    </tr>\n",
       "    <tr>\n",
       "      <th>9</th>\n",
       "      <td>~ Have Passion</td>\n",
       "      <td>2.0</td>\n",
       "    </tr>\n",
       "    <tr>\n",
       "      <th>10</th>\n",
       "      <td>~ Swapnil Bendale</td>\n",
       "      <td>2.0</td>\n",
       "    </tr>\n",
       "    <tr>\n",
       "      <th>11</th>\n",
       "      <td>~ Sayed</td>\n",
       "      <td>2.0</td>\n",
       "    </tr>\n",
       "    <tr>\n",
       "      <th>12</th>\n",
       "      <td>~ Nishant</td>\n",
       "      <td>2.0</td>\n",
       "    </tr>\n",
       "    <tr>\n",
       "      <th>13</th>\n",
       "      <td>~ Feroz Khan</td>\n",
       "      <td>2.0</td>\n",
       "    </tr>\n",
       "    <tr>\n",
       "      <th>14</th>\n",
       "      <td>~ abhay🔥</td>\n",
       "      <td>2.0</td>\n",
       "    </tr>\n",
       "    <tr>\n",
       "      <th>15</th>\n",
       "      <td>~ Saptarshi dhar</td>\n",
       "      <td>1.0</td>\n",
       "    </tr>\n",
       "    <tr>\n",
       "      <th>16</th>\n",
       "      <td>~ Banti Pataskar</td>\n",
       "      <td>1.0</td>\n",
       "    </tr>\n",
       "    <tr>\n",
       "      <th>17</th>\n",
       "      <td>~ Praveen</td>\n",
       "      <td>1.0</td>\n",
       "    </tr>\n",
       "    <tr>\n",
       "      <th>18</th>\n",
       "      <td>~ Utkarsh Naik</td>\n",
       "      <td>1.0</td>\n",
       "    </tr>\n",
       "    <tr>\n",
       "      <th>19</th>\n",
       "      <td>~ Ankit Chaudhary</td>\n",
       "      <td>1.0</td>\n",
       "    </tr>\n",
       "    <tr>\n",
       "      <th>20</th>\n",
       "      <td>~ SHAMIYA KHAN PATTAN</td>\n",
       "      <td>1.0</td>\n",
       "    </tr>\n",
       "    <tr>\n",
       "      <th>21</th>\n",
       "      <td>~ Pranay Meshram</td>\n",
       "      <td>1.0</td>\n",
       "    </tr>\n",
       "    <tr>\n",
       "      <th>22</th>\n",
       "      <td>~ Sanjay Y</td>\n",
       "      <td>1.0</td>\n",
       "    </tr>\n",
       "    <tr>\n",
       "      <th>23</th>\n",
       "      <td>~ Nomad Baba 👣🌍</td>\n",
       "      <td>1.0</td>\n",
       "    </tr>\n",
       "    <tr>\n",
       "      <th>24</th>\n",
       "      <td>~ .</td>\n",
       "      <td>1.0</td>\n",
       "    </tr>\n",
       "    <tr>\n",
       "      <th>25</th>\n",
       "      <td>~ Kahuna</td>\n",
       "      <td>1.0</td>\n",
       "    </tr>\n",
       "    <tr>\n",
       "      <th>26</th>\n",
       "      <td>~ S M Ali Abidi</td>\n",
       "      <td>1.0</td>\n",
       "    </tr>\n",
       "    <tr>\n",
       "      <th>27</th>\n",
       "      <td>~ Ag</td>\n",
       "      <td>1.0</td>\n",
       "    </tr>\n",
       "  </tbody>\n",
       "</table>\n",
       "</div>"
      ],
      "text/plain": [
       "                                                 Name  Percent\n",
       "0                                         Amit Mishra     19.0\n",
       "1                               ~ Satya Narayan Nandi      8.0\n",
       "2                                             ~ Mohib      6.0\n",
       "3                                  Riddhish Chaudhari      5.0\n",
       "4   ~ The Uttam Gupta | Digital Marketing Services...      4.0\n",
       "5                                   ~ Ravinder S Negi      4.0\n",
       "6                           ~ Karmicbuzz Spirituality      4.0\n",
       "7                                              ~ Amit      3.0\n",
       "8                                             ~ Honey      2.0\n",
       "9                                      ~ Have Passion      2.0\n",
       "10                                  ~ Swapnil Bendale      2.0\n",
       "11                                            ~ Sayed      2.0\n",
       "12                                          ~ Nishant      2.0\n",
       "13                                       ~ Feroz Khan      2.0\n",
       "14                                           ~ abhay🔥      2.0\n",
       "15                                   ~ Saptarshi dhar      1.0\n",
       "16                                   ~ Banti Pataskar      1.0\n",
       "17                                          ~ Praveen      1.0\n",
       "18                                     ~ Utkarsh Naik      1.0\n",
       "19                                  ~ Ankit Chaudhary      1.0\n",
       "20                              ~ SHAMIYA KHAN PATTAN      1.0\n",
       "21                                   ~ Pranay Meshram      1.0\n",
       "22                                         ~ Sanjay Y      1.0\n",
       "23                                    ~ Nomad Baba 👣🌍      1.0\n",
       "24                                                ~ .      1.0\n",
       "25                                           ~ Kahuna      1.0\n",
       "26                                    ~ S M Ali Abidi      1.0\n",
       "27                                               ~ Ag      1.0"
      ]
     },
     "execution_count": 164,
     "metadata": {},
     "output_type": "execute_result"
    }
   ],
   "source": [
    "overall_active_user_df = round(df[\"user\"].value_counts()[df[\"user\"].value_counts()>10]/df.shape[0]*100).reset_index().rename(columns={'user':'Name', 'count':'Percent'})\n",
    "overall_active_user_df"
   ]
  },
  {
   "cell_type": "code",
   "execution_count": 165,
   "metadata": {},
   "outputs": [
    {
     "data": {
      "text/plain": [
       "([0,\n",
       "  1,\n",
       "  2,\n",
       "  3,\n",
       "  4,\n",
       "  5,\n",
       "  6,\n",
       "  7,\n",
       "  8,\n",
       "  9,\n",
       "  10,\n",
       "  11,\n",
       "  12,\n",
       "  13,\n",
       "  14,\n",
       "  15,\n",
       "  16,\n",
       "  17,\n",
       "  18,\n",
       "  19,\n",
       "  20,\n",
       "  21,\n",
       "  22,\n",
       "  23,\n",
       "  24,\n",
       "  25,\n",
       "  26,\n",
       "  27],\n",
       " [Text(0, 0, 'Amit Mishra'),\n",
       "  Text(1, 0, '~\\u202fSatya Narayan Nandi'),\n",
       "  Text(2, 0, '~\\u202fMohib'),\n",
       "  Text(3, 0, 'Riddhish Chaudhari'),\n",
       "  Text(4, 0, '~\\u202fThe Uttam Gupta | Digital Marketing Services Company'),\n",
       "  Text(5, 0, '~\\u202fRavinder S Negi'),\n",
       "  Text(6, 0, '~\\u202fKarmicbuzz Spirituality'),\n",
       "  Text(7, 0, '~\\u202fAmit'),\n",
       "  Text(8, 0, '~\\u202fHoney'),\n",
       "  Text(9, 0, '~\\u202fHave Passion'),\n",
       "  Text(10, 0, '~\\u202fSwapnil Bendale'),\n",
       "  Text(11, 0, '~\\u202fSayed'),\n",
       "  Text(12, 0, '~\\u202fNishant'),\n",
       "  Text(13, 0, '~\\u202fFeroz Khan'),\n",
       "  Text(14, 0, '~\\u202fabhay🔥'),\n",
       "  Text(15, 0, '~\\u202fSaptarshi dhar'),\n",
       "  Text(16, 0, '~\\u202fBanti Pataskar'),\n",
       "  Text(17, 0, '~\\u202fPraveen'),\n",
       "  Text(18, 0, '~\\u202fUtkarsh Naik'),\n",
       "  Text(19, 0, '~\\u202fAnkit Chaudhary'),\n",
       "  Text(20, 0, '~\\u202fSHAMIYA KHAN PATTAN'),\n",
       "  Text(21, 0, '~\\u202fPranay Meshram'),\n",
       "  Text(22, 0, '~\\u202fSanjay Y'),\n",
       "  Text(23, 0, '~\\u202fNomad Baba 👣🌍'),\n",
       "  Text(24, 0, '~\\u202f.'),\n",
       "  Text(25, 0, '~\\u202fKahuna'),\n",
       "  Text(26, 0, '~\\u202fS M Ali Abidi'),\n",
       "  Text(27, 0, '~\\u202fAg')])"
      ]
     },
     "execution_count": 165,
     "metadata": {},
     "output_type": "execute_result"
    },
    {
     "name": "stderr",
     "output_type": "stream",
     "text": [
      "/Users/aayushgupta/Library/Python/3.10/lib/python/site-packages/IPython/core/events.py:93: UserWarning:\n",
      "\n",
      "Glyph 128293 (\\N{FIRE}) missing from current font.\n",
      "\n",
      "/Users/aayushgupta/Library/Python/3.10/lib/python/site-packages/IPython/core/events.py:93: UserWarning:\n",
      "\n",
      "Glyph 128099 (\\N{FOOTPRINTS}) missing from current font.\n",
      "\n",
      "/Users/aayushgupta/Library/Python/3.10/lib/python/site-packages/IPython/core/events.py:93: UserWarning:\n",
      "\n",
      "Glyph 127757 (\\N{EARTH GLOBE EUROPE-AFRICA}) missing from current font.\n",
      "\n",
      "/Users/aayushgupta/Library/Python/3.10/lib/python/site-packages/IPython/core/pylabtools.py:152: UserWarning:\n",
      "\n",
      "Glyph 128293 (\\N{FIRE}) missing from current font.\n",
      "\n",
      "/Users/aayushgupta/Library/Python/3.10/lib/python/site-packages/IPython/core/pylabtools.py:152: UserWarning:\n",
      "\n",
      "Glyph 128099 (\\N{FOOTPRINTS}) missing from current font.\n",
      "\n",
      "/Users/aayushgupta/Library/Python/3.10/lib/python/site-packages/IPython/core/pylabtools.py:152: UserWarning:\n",
      "\n",
      "Glyph 127757 (\\N{EARTH GLOBE EUROPE-AFRICA}) missing from current font.\n",
      "\n"
     ]
    },
    {
     "data": {
      "image/png": "[encoded data removed]",
      "text/plain": [
       "<Figure size 640x480 with 1 Axes>"
      ]
     },
     "metadata": {},
     "output_type": "display_data"
    }
   ],
   "source": [
    "plt.bar(overall_active_user_df[\"Name\"],overall_active_user_df[\"Percent\"])\n",
    "plt.xticks(rotation='vertical')"
   ]
  },
  {
   "cell_type": "markdown",
   "metadata": {},
   "source": [
    "- Nilay has 32 percent countribution"
   ]
  },
  {
   "cell_type": "markdown",
   "metadata": {},
   "source": [
    "### Wordcloud and Frequencies"
   ]
  },
  {
   "cell_type": "code",
   "execution_count": 166,
   "metadata": {},
   "outputs": [],
   "source": [
    "message_data = df['message'].str.cat(sep=' ')\n",
    "message_data = message_data.lower()\n",
    "message_data = re.sub('[^a-zA-Z]', ' ', message_data)\n",
    "message_data = re.sub('\\s+',' ', message_data)"
   ]
  },
  {
   "cell_type": "code",
   "execution_count": 167,
   "metadata": {},
   "outputs": [
    {
     "data": {
      "text/html": [
       "<div>\n",
       "<style scoped>\n",
       "    .dataframe tbody tr th:only-of-type {\n",
       "        vertical-align: middle;\n",
       "    }\n",
       "\n",
       "    .dataframe tbody tr th {\n",
       "        vertical-align: top;\n",
       "    }\n",
       "\n",
       "    .dataframe thead th {\n",
       "        text-align: right;\n",
       "    }\n",
       "</style>\n",
       "<table border=\"1\" class=\"dataframe\">\n",
       "  <thead>\n",
       "    <tr style=\"text-align: right;\">\n",
       "      <th></th>\n",
       "      <th>Words</th>\n",
       "      <th>count</th>\n",
       "    </tr>\n",
       "  </thead>\n",
       "  <tbody>\n",
       "    <tr>\n",
       "      <th>0</th>\n",
       "      <td>to</td>\n",
       "      <td>271</td>\n",
       "    </tr>\n",
       "    <tr>\n",
       "      <th>1</th>\n",
       "      <td>i</td>\n",
       "      <td>222</td>\n",
       "    </tr>\n",
       "    <tr>\n",
       "      <th>2</th>\n",
       "      <td>for</td>\n",
       "      <td>190</td>\n",
       "    </tr>\n",
       "    <tr>\n",
       "      <th>3</th>\n",
       "      <td>you</td>\n",
       "      <td>181</td>\n",
       "    </tr>\n",
       "    <tr>\n",
       "      <th>4</th>\n",
       "      <td>in</td>\n",
       "      <td>147</td>\n",
       "    </tr>\n",
       "    <tr>\n",
       "      <th>5</th>\n",
       "      <td>is</td>\n",
       "      <td>147</td>\n",
       "    </tr>\n",
       "    <tr>\n",
       "      <th>6</th>\n",
       "      <td>the</td>\n",
       "      <td>140</td>\n",
       "    </tr>\n",
       "    <tr>\n",
       "      <th>7</th>\n",
       "      <td>this</td>\n",
       "      <td>135</td>\n",
       "    </tr>\n",
       "    <tr>\n",
       "      <th>8</th>\n",
       "      <td>can</td>\n",
       "      <td>123</td>\n",
       "    </tr>\n",
       "    <tr>\n",
       "      <th>9</th>\n",
       "      <td>and</td>\n",
       "      <td>119</td>\n",
       "    </tr>\n",
       "  </tbody>\n",
       "</table>\n",
       "</div>"
      ],
      "text/plain": [
       "  Words  count\n",
       "0    to    271\n",
       "1     i    222\n",
       "2   for    190\n",
       "3   you    181\n",
       "4    in    147\n",
       "5    is    147\n",
       "6   the    140\n",
       "7  this    135\n",
       "8   can    123\n",
       "9   and    119"
      ]
     },
     "execution_count": 167,
     "metadata": {},
     "output_type": "execute_result"
    }
   ],
   "source": [
    "# To view in DF\n",
    "message_data_df = pd.DataFrame(message_data.split(), columns=[\"Words\"])\n",
    "message_data_df = message_data_df.value_counts().reset_index()\n",
    "message_data_df.head(10)"
   ]
  },
  {
   "cell_type": "code",
   "execution_count": 168,
   "metadata": {},
   "outputs": [],
   "source": [
    "#importing the stopwords\n",
    "stopwords_file = open('stopwords.txt')\n",
    "stopwords = stopwords_file.read()\n",
    "stopwords_file.close()\n",
    "all_stopwords = stopwords.split() + ['haa','kr', 'omitted', 'sticker', 'image', 'https', 'www']"
   ]
  },
  {
   "cell_type": "code",
   "execution_count": 169,
   "metadata": {},
   "outputs": [],
   "source": [
    "# filtered message data after removing stopwordss\n",
    "filtered_text_data = []\n",
    "for word in message_data.split():\n",
    "    if word.lower() not in all_stopwords:\n",
    "        filtered_text_data.append(word)\n",
    "filtered_text_data = \" \".join(filtered_text_data)"
   ]
  },
  {
   "cell_type": "code",
   "execution_count": 170,
   "metadata": {},
   "outputs": [
    {
     "data": {
      "text/html": [
       "<div>\n",
       "<style scoped>\n",
       "    .dataframe tbody tr th:only-of-type {\n",
       "        vertical-align: middle;\n",
       "    }\n",
       "\n",
       "    .dataframe tbody tr th {\n",
       "        vertical-align: top;\n",
       "    }\n",
       "\n",
       "    .dataframe thead th {\n",
       "        text-align: right;\n",
       "    }\n",
       "</style>\n",
       "<table border=\"1\" class=\"dataframe\">\n",
       "  <thead>\n",
       "    <tr style=\"text-align: right;\">\n",
       "      <th></th>\n",
       "      <th>Words</th>\n",
       "      <th>count</th>\n",
       "    </tr>\n",
       "  </thead>\n",
       "  <tbody>\n",
       "    <tr>\n",
       "      <th>0</th>\n",
       "      <td>website</td>\n",
       "      <td>62</td>\n",
       "    </tr>\n",
       "    <tr>\n",
       "      <th>1</th>\n",
       "      <td>message</td>\n",
       "      <td>58</td>\n",
       "    </tr>\n",
       "    <tr>\n",
       "      <th>2</th>\n",
       "      <td>amit</td>\n",
       "      <td>47</td>\n",
       "    </tr>\n",
       "    <tr>\n",
       "      <th>3</th>\n",
       "      <td>h</td>\n",
       "      <td>41</td>\n",
       "    </tr>\n",
       "    <tr>\n",
       "      <th>4</th>\n",
       "      <td>deleted</td>\n",
       "      <td>40</td>\n",
       "    </tr>\n",
       "    <tr>\n",
       "      <th>5</th>\n",
       "      <td>blog</td>\n",
       "      <td>39</td>\n",
       "    </tr>\n",
       "    <tr>\n",
       "      <th>6</th>\n",
       "      <td>group</td>\n",
       "      <td>38</td>\n",
       "    </tr>\n",
       "    <tr>\n",
       "      <th>7</th>\n",
       "      <td>hosting</td>\n",
       "      <td>35</td>\n",
       "    </tr>\n",
       "    <tr>\n",
       "      <th>8</th>\n",
       "      <td>google</td>\n",
       "      <td>34</td>\n",
       "    </tr>\n",
       "    <tr>\n",
       "      <th>9</th>\n",
       "      <td>hey</td>\n",
       "      <td>32</td>\n",
       "    </tr>\n",
       "  </tbody>\n",
       "</table>\n",
       "</div>"
      ],
      "text/plain": [
       "     Words  count\n",
       "0  website     62\n",
       "1  message     58\n",
       "2     amit     47\n",
       "3        h     41\n",
       "4  deleted     40\n",
       "5     blog     39\n",
       "6    group     38\n",
       "7  hosting     35\n",
       "8   google     34\n",
       "9      hey     32"
      ]
     },
     "execution_count": 170,
     "metadata": {},
     "output_type": "execute_result"
    }
   ],
   "source": [
    "# To view in filtered DF\n",
    "filtered_text_df = pd.DataFrame(filtered_text_data.split(), columns=[\"Words\"])\n",
    "filtered_text_df = filtered_text_df.value_counts().reset_index()\n",
    "filtered_text_df.head(10)"
   ]
  },
  {
   "cell_type": "code",
   "execution_count": 171,
   "metadata": {},
   "outputs": [
    {
     "data": {
      "text/html": [
       "<div>\n",
       "<style scoped>\n",
       "    .dataframe tbody tr th:only-of-type {\n",
       "        vertical-align: middle;\n",
       "    }\n",
       "\n",
       "    .dataframe tbody tr th {\n",
       "        vertical-align: top;\n",
       "    }\n",
       "\n",
       "    .dataframe thead th {\n",
       "        text-align: right;\n",
       "    }\n",
       "</style>\n",
       "<table border=\"1\" class=\"dataframe\">\n",
       "  <thead>\n",
       "    <tr style=\"text-align: right;\">\n",
       "      <th></th>\n",
       "      <th>Words</th>\n",
       "      <th>count</th>\n",
       "      <th>Freq. %</th>\n",
       "    </tr>\n",
       "  </thead>\n",
       "  <tbody>\n",
       "    <tr>\n",
       "      <th>0</th>\n",
       "      <td>website</td>\n",
       "      <td>62</td>\n",
       "      <td>1.15</td>\n",
       "    </tr>\n",
       "    <tr>\n",
       "      <th>1</th>\n",
       "      <td>message</td>\n",
       "      <td>58</td>\n",
       "      <td>1.07</td>\n",
       "    </tr>\n",
       "    <tr>\n",
       "      <th>2</th>\n",
       "      <td>amit</td>\n",
       "      <td>47</td>\n",
       "      <td>0.87</td>\n",
       "    </tr>\n",
       "    <tr>\n",
       "      <th>3</th>\n",
       "      <td>h</td>\n",
       "      <td>41</td>\n",
       "      <td>0.76</td>\n",
       "    </tr>\n",
       "    <tr>\n",
       "      <th>4</th>\n",
       "      <td>deleted</td>\n",
       "      <td>40</td>\n",
       "      <td>0.74</td>\n",
       "    </tr>\n",
       "    <tr>\n",
       "      <th>5</th>\n",
       "      <td>blog</td>\n",
       "      <td>39</td>\n",
       "      <td>0.72</td>\n",
       "    </tr>\n",
       "    <tr>\n",
       "      <th>6</th>\n",
       "      <td>group</td>\n",
       "      <td>38</td>\n",
       "      <td>0.70</td>\n",
       "    </tr>\n",
       "    <tr>\n",
       "      <th>7</th>\n",
       "      <td>hosting</td>\n",
       "      <td>35</td>\n",
       "      <td>0.65</td>\n",
       "    </tr>\n",
       "    <tr>\n",
       "      <th>8</th>\n",
       "      <td>google</td>\n",
       "      <td>34</td>\n",
       "      <td>0.63</td>\n",
       "    </tr>\n",
       "    <tr>\n",
       "      <th>9</th>\n",
       "      <td>hey</td>\n",
       "      <td>32</td>\n",
       "      <td>0.59</td>\n",
       "    </tr>\n",
       "    <tr>\n",
       "      <th>10</th>\n",
       "      <td>affiliate</td>\n",
       "      <td>32</td>\n",
       "      <td>0.59</td>\n",
       "    </tr>\n",
       "    <tr>\n",
       "      <th>11</th>\n",
       "      <td>youtube</td>\n",
       "      <td>31</td>\n",
       "      <td>0.57</td>\n",
       "    </tr>\n",
       "    <tr>\n",
       "      <th>12</th>\n",
       "      <td>share</td>\n",
       "      <td>30</td>\n",
       "      <td>0.56</td>\n",
       "    </tr>\n",
       "    <tr>\n",
       "      <th>13</th>\n",
       "      <td>free</td>\n",
       "      <td>30</td>\n",
       "      <td>0.56</td>\n",
       "    </tr>\n",
       "    <tr>\n",
       "      <th>14</th>\n",
       "      <td>domain</td>\n",
       "      <td>29</td>\n",
       "      <td>0.54</td>\n",
       "    </tr>\n",
       "  </tbody>\n",
       "</table>\n",
       "</div>"
      ],
      "text/plain": [
       "        Words  count  Freq. %\n",
       "0     website     62     1.15\n",
       "1     message     58     1.07\n",
       "2        amit     47     0.87\n",
       "3           h     41     0.76\n",
       "4     deleted     40     0.74\n",
       "5        blog     39     0.72\n",
       "6       group     38     0.70\n",
       "7     hosting     35     0.65\n",
       "8      google     34     0.63\n",
       "9         hey     32     0.59\n",
       "10  affiliate     32     0.59\n",
       "11    youtube     31     0.57\n",
       "12      share     30     0.56\n",
       "13       free     30     0.56\n",
       "14     domain     29     0.54"
      ]
     },
     "execution_count": 171,
     "metadata": {},
     "output_type": "execute_result"
    }
   ],
   "source": [
    "filtered_text_df[\"Freq. %\"] = round((filtered_text_df[\"count\"]/filtered_text_df[\"count\"].sum())*100,2)\n",
    "filtered_text_df.head(15)"
   ]
  },
  {
   "cell_type": "code",
   "execution_count": 172,
   "metadata": {},
   "outputs": [
    {
     "data": {
      "text/plain": [
       "<BarContainer object of 15 artists>"
      ]
     },
     "execution_count": 172,
     "metadata": {},
     "output_type": "execute_result"
    },
    {
     "data": {
      "image/png": "[encoded data removed]",
      "text/plain": [
       "<Figure size 640x480 with 1 Axes>"
      ]
     },
     "metadata": {},
     "output_type": "display_data"
    }
   ],
   "source": [
    "filtered_text_df = filtered_text_df.head(15)\n",
    "plt.barh(filtered_text_df[\"Words\"], filtered_text_df[\"count\"])"
   ]
  },
  {
   "cell_type": "code",
   "execution_count": 173,
   "metadata": {},
   "outputs": [],
   "source": [
    "wordcloud = WordCloud(width=800, height=400, background_color='white').generate(filtered_text_data)"
   ]
  },
  {
   "cell_type": "code",
   "execution_count": 174,
   "metadata": {},
   "outputs": [
    {
     "data": {
      "image/png": "[encoded data removed]",
      "text/plain": [
       "<Figure size 1000x500 with 1 Axes>"
      ]
     },
     "metadata": {},
     "output_type": "display_data"
    }
   ],
   "source": [
    "plt.figure(figsize=(10, 5))\n",
    "plt.imshow(wordcloud, interpolation='bilinear')\n",
    "plt.axis('off')\n",
    "plt.show()"
   ]
  },
  {
   "cell_type": "markdown",
   "metadata": {},
   "source": [
    "### Timeline Analysis"
   ]
  },
  {
   "cell_type": "code",
   "execution_count": 175,
   "metadata": {},
   "outputs": [],
   "source": [
    "df['month_num'] = df[\"date\"].dt.month"
   ]
  },
  {
   "cell_type": "markdown",
   "metadata": {},
   "source": [
    "- Multi column in group by"
   ]
  },
  {
   "cell_type": "code",
   "execution_count": 176,
   "metadata": {},
   "outputs": [
    {
     "data": {
      "text/html": [
       "<div>\n",
       "<style scoped>\n",
       "    .dataframe tbody tr th:only-of-type {\n",
       "        vertical-align: middle;\n",
       "    }\n",
       "\n",
       "    .dataframe tbody tr th {\n",
       "        vertical-align: top;\n",
       "    }\n",
       "\n",
       "    .dataframe thead th {\n",
       "        text-align: right;\n",
       "    }\n",
       "</style>\n",
       "<table border=\"1\" class=\"dataframe\">\n",
       "  <thead>\n",
       "    <tr style=\"text-align: right;\">\n",
       "      <th></th>\n",
       "      <th></th>\n",
       "      <th>date</th>\n",
       "      <th>user</th>\n",
       "      <th>message</th>\n",
       "      <th>month</th>\n",
       "      <th>day</th>\n",
       "      <th>hour</th>\n",
       "      <th>minute</th>\n",
       "    </tr>\n",
       "    <tr>\n",
       "      <th>year</th>\n",
       "      <th>month_num</th>\n",
       "      <th></th>\n",
       "      <th></th>\n",
       "      <th></th>\n",
       "      <th></th>\n",
       "      <th></th>\n",
       "      <th></th>\n",
       "      <th></th>\n",
       "    </tr>\n",
       "  </thead>\n",
       "  <tbody>\n",
       "    <tr>\n",
       "      <th>2019</th>\n",
       "      <th>8</th>\n",
       "      <td>3</td>\n",
       "      <td>3</td>\n",
       "      <td>3</td>\n",
       "      <td>3</td>\n",
       "      <td>3</td>\n",
       "      <td>3</td>\n",
       "      <td>3</td>\n",
       "    </tr>\n",
       "    <tr>\n",
       "      <th rowspan=\"9\" valign=\"top\">2022</th>\n",
       "      <th>4</th>\n",
       "      <td>96</td>\n",
       "      <td>96</td>\n",
       "      <td>96</td>\n",
       "      <td>96</td>\n",
       "      <td>96</td>\n",
       "      <td>96</td>\n",
       "      <td>96</td>\n",
       "    </tr>\n",
       "    <tr>\n",
       "      <th>5</th>\n",
       "      <td>99</td>\n",
       "      <td>99</td>\n",
       "      <td>99</td>\n",
       "      <td>99</td>\n",
       "      <td>99</td>\n",
       "      <td>99</td>\n",
       "      <td>99</td>\n",
       "    </tr>\n",
       "    <tr>\n",
       "      <th>6</th>\n",
       "      <td>83</td>\n",
       "      <td>83</td>\n",
       "      <td>83</td>\n",
       "      <td>83</td>\n",
       "      <td>83</td>\n",
       "      <td>83</td>\n",
       "      <td>83</td>\n",
       "    </tr>\n",
       "    <tr>\n",
       "      <th>7</th>\n",
       "      <td>58</td>\n",
       "      <td>58</td>\n",
       "      <td>58</td>\n",
       "      <td>58</td>\n",
       "      <td>58</td>\n",
       "      <td>58</td>\n",
       "      <td>58</td>\n",
       "    </tr>\n",
       "    <tr>\n",
       "      <th>8</th>\n",
       "      <td>121</td>\n",
       "      <td>121</td>\n",
       "      <td>121</td>\n",
       "      <td>121</td>\n",
       "      <td>121</td>\n",
       "      <td>121</td>\n",
       "      <td>121</td>\n",
       "    </tr>\n",
       "    <tr>\n",
       "      <th>9</th>\n",
       "      <td>62</td>\n",
       "      <td>62</td>\n",
       "      <td>62</td>\n",
       "      <td>62</td>\n",
       "      <td>62</td>\n",
       "      <td>62</td>\n",
       "      <td>62</td>\n",
       "    </tr>\n",
       "    <tr>\n",
       "      <th>10</th>\n",
       "      <td>129</td>\n",
       "      <td>129</td>\n",
       "      <td>129</td>\n",
       "      <td>129</td>\n",
       "      <td>129</td>\n",
       "      <td>129</td>\n",
       "      <td>129</td>\n",
       "    </tr>\n",
       "    <tr>\n",
       "      <th>11</th>\n",
       "      <td>84</td>\n",
       "      <td>84</td>\n",
       "      <td>84</td>\n",
       "      <td>84</td>\n",
       "      <td>84</td>\n",
       "      <td>84</td>\n",
       "      <td>84</td>\n",
       "    </tr>\n",
       "    <tr>\n",
       "      <th>12</th>\n",
       "      <td>50</td>\n",
       "      <td>50</td>\n",
       "      <td>50</td>\n",
       "      <td>50</td>\n",
       "      <td>50</td>\n",
       "      <td>50</td>\n",
       "      <td>50</td>\n",
       "    </tr>\n",
       "    <tr>\n",
       "      <th rowspan=\"10\" valign=\"top\">2023</th>\n",
       "      <th>1</th>\n",
       "      <td>61</td>\n",
       "      <td>61</td>\n",
       "      <td>61</td>\n",
       "      <td>61</td>\n",
       "      <td>61</td>\n",
       "      <td>61</td>\n",
       "      <td>61</td>\n",
       "    </tr>\n",
       "    <tr>\n",
       "      <th>2</th>\n",
       "      <td>62</td>\n",
       "      <td>62</td>\n",
       "      <td>62</td>\n",
       "      <td>62</td>\n",
       "      <td>62</td>\n",
       "      <td>62</td>\n",
       "      <td>62</td>\n",
       "    </tr>\n",
       "    <tr>\n",
       "      <th>3</th>\n",
       "      <td>29</td>\n",
       "      <td>29</td>\n",
       "      <td>29</td>\n",
       "      <td>29</td>\n",
       "      <td>29</td>\n",
       "      <td>29</td>\n",
       "      <td>29</td>\n",
       "    </tr>\n",
       "    <tr>\n",
       "      <th>4</th>\n",
       "      <td>33</td>\n",
       "      <td>33</td>\n",
       "      <td>33</td>\n",
       "      <td>33</td>\n",
       "      <td>33</td>\n",
       "      <td>33</td>\n",
       "      <td>33</td>\n",
       "    </tr>\n",
       "    <tr>\n",
       "      <th>5</th>\n",
       "      <td>11</td>\n",
       "      <td>11</td>\n",
       "      <td>11</td>\n",
       "      <td>11</td>\n",
       "      <td>11</td>\n",
       "      <td>11</td>\n",
       "      <td>11</td>\n",
       "    </tr>\n",
       "    <tr>\n",
       "      <th>6</th>\n",
       "      <td>57</td>\n",
       "      <td>57</td>\n",
       "      <td>57</td>\n",
       "      <td>57</td>\n",
       "      <td>57</td>\n",
       "      <td>57</td>\n",
       "      <td>57</td>\n",
       "    </tr>\n",
       "    <tr>\n",
       "      <th>7</th>\n",
       "      <td>86</td>\n",
       "      <td>86</td>\n",
       "      <td>86</td>\n",
       "      <td>86</td>\n",
       "      <td>86</td>\n",
       "      <td>86</td>\n",
       "      <td>86</td>\n",
       "    </tr>\n",
       "    <tr>\n",
       "      <th>8</th>\n",
       "      <td>45</td>\n",
       "      <td>45</td>\n",
       "      <td>45</td>\n",
       "      <td>45</td>\n",
       "      <td>45</td>\n",
       "      <td>45</td>\n",
       "      <td>45</td>\n",
       "    </tr>\n",
       "    <tr>\n",
       "      <th>9</th>\n",
       "      <td>153</td>\n",
       "      <td>153</td>\n",
       "      <td>153</td>\n",
       "      <td>153</td>\n",
       "      <td>153</td>\n",
       "      <td>153</td>\n",
       "      <td>153</td>\n",
       "    </tr>\n",
       "    <tr>\n",
       "      <th>10</th>\n",
       "      <td>2</td>\n",
       "      <td>2</td>\n",
       "      <td>2</td>\n",
       "      <td>2</td>\n",
       "      <td>2</td>\n",
       "      <td>2</td>\n",
       "      <td>2</td>\n",
       "    </tr>\n",
       "  </tbody>\n",
       "</table>\n",
       "</div>"
      ],
      "text/plain": [
       "                date  user  message  month  day  hour  minute\n",
       "year month_num                                               \n",
       "2019 8             3     3        3      3    3     3       3\n",
       "2022 4            96    96       96     96   96    96      96\n",
       "     5            99    99       99     99   99    99      99\n",
       "     6            83    83       83     83   83    83      83\n",
       "     7            58    58       58     58   58    58      58\n",
       "     8           121   121      121    121  121   121     121\n",
       "     9            62    62       62     62   62    62      62\n",
       "     10          129   129      129    129  129   129     129\n",
       "     11           84    84       84     84   84    84      84\n",
       "     12           50    50       50     50   50    50      50\n",
       "2023 1            61    61       61     61   61    61      61\n",
       "     2            62    62       62     62   62    62      62\n",
       "     3            29    29       29     29   29    29      29\n",
       "     4            33    33       33     33   33    33      33\n",
       "     5            11    11       11     11   11    11      11\n",
       "     6            57    57       57     57   57    57      57\n",
       "     7            86    86       86     86   86    86      86\n",
       "     8            45    45       45     45   45    45      45\n",
       "     9           153   153      153    153  153   153     153\n",
       "     10            2     2        2      2    2     2       2"
      ]
     },
     "execution_count": 176,
     "metadata": {},
     "output_type": "execute_result"
    }
   ],
   "source": [
    "df.groupby(['year','month_num']).count()"
   ]
  },
  {
   "cell_type": "code",
   "execution_count": 177,
   "metadata": {},
   "outputs": [
    {
     "data": {
      "text/html": [
       "<div>\n",
       "<style scoped>\n",
       "    .dataframe tbody tr th:only-of-type {\n",
       "        vertical-align: middle;\n",
       "    }\n",
       "\n",
       "    .dataframe tbody tr th {\n",
       "        vertical-align: top;\n",
       "    }\n",
       "\n",
       "    .dataframe thead th {\n",
       "        text-align: right;\n",
       "    }\n",
       "</style>\n",
       "<table border=\"1\" class=\"dataframe\">\n",
       "  <thead>\n",
       "    <tr style=\"text-align: right;\">\n",
       "      <th></th>\n",
       "      <th>year</th>\n",
       "      <th>month_num</th>\n",
       "      <th>month</th>\n",
       "      <th>message</th>\n",
       "    </tr>\n",
       "  </thead>\n",
       "  <tbody>\n",
       "    <tr>\n",
       "      <th>1</th>\n",
       "      <td>2022</td>\n",
       "      <td>4</td>\n",
       "      <td>April</td>\n",
       "      <td>96</td>\n",
       "    </tr>\n",
       "    <tr>\n",
       "      <th>2</th>\n",
       "      <td>2022</td>\n",
       "      <td>5</td>\n",
       "      <td>May</td>\n",
       "      <td>99</td>\n",
       "    </tr>\n",
       "    <tr>\n",
       "      <th>3</th>\n",
       "      <td>2022</td>\n",
       "      <td>6</td>\n",
       "      <td>June</td>\n",
       "      <td>83</td>\n",
       "    </tr>\n",
       "    <tr>\n",
       "      <th>4</th>\n",
       "      <td>2022</td>\n",
       "      <td>7</td>\n",
       "      <td>July</td>\n",
       "      <td>58</td>\n",
       "    </tr>\n",
       "    <tr>\n",
       "      <th>5</th>\n",
       "      <td>2022</td>\n",
       "      <td>8</td>\n",
       "      <td>August</td>\n",
       "      <td>121</td>\n",
       "    </tr>\n",
       "    <tr>\n",
       "      <th>6</th>\n",
       "      <td>2022</td>\n",
       "      <td>9</td>\n",
       "      <td>September</td>\n",
       "      <td>62</td>\n",
       "    </tr>\n",
       "    <tr>\n",
       "      <th>7</th>\n",
       "      <td>2022</td>\n",
       "      <td>10</td>\n",
       "      <td>October</td>\n",
       "      <td>129</td>\n",
       "    </tr>\n",
       "    <tr>\n",
       "      <th>8</th>\n",
       "      <td>2022</td>\n",
       "      <td>11</td>\n",
       "      <td>November</td>\n",
       "      <td>84</td>\n",
       "    </tr>\n",
       "    <tr>\n",
       "      <th>9</th>\n",
       "      <td>2022</td>\n",
       "      <td>12</td>\n",
       "      <td>December</td>\n",
       "      <td>50</td>\n",
       "    </tr>\n",
       "    <tr>\n",
       "      <th>10</th>\n",
       "      <td>2023</td>\n",
       "      <td>1</td>\n",
       "      <td>January</td>\n",
       "      <td>61</td>\n",
       "    </tr>\n",
       "    <tr>\n",
       "      <th>11</th>\n",
       "      <td>2023</td>\n",
       "      <td>2</td>\n",
       "      <td>February</td>\n",
       "      <td>62</td>\n",
       "    </tr>\n",
       "    <tr>\n",
       "      <th>12</th>\n",
       "      <td>2023</td>\n",
       "      <td>3</td>\n",
       "      <td>March</td>\n",
       "      <td>29</td>\n",
       "    </tr>\n",
       "    <tr>\n",
       "      <th>13</th>\n",
       "      <td>2023</td>\n",
       "      <td>4</td>\n",
       "      <td>April</td>\n",
       "      <td>33</td>\n",
       "    </tr>\n",
       "    <tr>\n",
       "      <th>14</th>\n",
       "      <td>2023</td>\n",
       "      <td>5</td>\n",
       "      <td>May</td>\n",
       "      <td>11</td>\n",
       "    </tr>\n",
       "    <tr>\n",
       "      <th>15</th>\n",
       "      <td>2023</td>\n",
       "      <td>6</td>\n",
       "      <td>June</td>\n",
       "      <td>57</td>\n",
       "    </tr>\n",
       "    <tr>\n",
       "      <th>16</th>\n",
       "      <td>2023</td>\n",
       "      <td>7</td>\n",
       "      <td>July</td>\n",
       "      <td>86</td>\n",
       "    </tr>\n",
       "    <tr>\n",
       "      <th>17</th>\n",
       "      <td>2023</td>\n",
       "      <td>8</td>\n",
       "      <td>August</td>\n",
       "      <td>45</td>\n",
       "    </tr>\n",
       "    <tr>\n",
       "      <th>18</th>\n",
       "      <td>2023</td>\n",
       "      <td>9</td>\n",
       "      <td>September</td>\n",
       "      <td>153</td>\n",
       "    </tr>\n",
       "    <tr>\n",
       "      <th>19</th>\n",
       "      <td>2023</td>\n",
       "      <td>10</td>\n",
       "      <td>October</td>\n",
       "      <td>2</td>\n",
       "    </tr>\n",
       "  </tbody>\n",
       "</table>\n",
       "</div>"
      ],
      "text/plain": [
       "    year  month_num      month  message\n",
       "1   2022          4      April       96\n",
       "2   2022          5        May       99\n",
       "3   2022          6       June       83\n",
       "4   2022          7       July       58\n",
       "5   2022          8     August      121\n",
       "6   2022          9  September       62\n",
       "7   2022         10    October      129\n",
       "8   2022         11   November       84\n",
       "9   2022         12   December       50\n",
       "10  2023          1    January       61\n",
       "11  2023          2   February       62\n",
       "12  2023          3      March       29\n",
       "13  2023          4      April       33\n",
       "14  2023          5        May       11\n",
       "15  2023          6       June       57\n",
       "16  2023          7       July       86\n",
       "17  2023          8     August       45\n",
       "18  2023          9  September      153\n",
       "19  2023         10    October        2"
      ]
     },
     "execution_count": 177,
     "metadata": {},
     "output_type": "execute_result"
    }
   ],
   "source": [
    "timeline_df = df.groupby(['year','month_num', 'month']).count()[\"message\"].reset_index()[1:]\n",
    "timeline_df"
   ]
  },
  {
   "cell_type": "markdown",
   "metadata": {},
   "source": [
    "- creating a time column with year and month for plotting"
   ]
  },
  {
   "cell_type": "code",
   "execution_count": 178,
   "metadata": {},
   "outputs": [
    {
     "data": {
      "text/html": [
       "<div>\n",
       "<style scoped>\n",
       "    .dataframe tbody tr th:only-of-type {\n",
       "        vertical-align: middle;\n",
       "    }\n",
       "\n",
       "    .dataframe tbody tr th {\n",
       "        vertical-align: top;\n",
       "    }\n",
       "\n",
       "    .dataframe thead th {\n",
       "        text-align: right;\n",
       "    }\n",
       "</style>\n",
       "<table border=\"1\" class=\"dataframe\">\n",
       "  <thead>\n",
       "    <tr style=\"text-align: right;\">\n",
       "      <th></th>\n",
       "      <th>year</th>\n",
       "      <th>month_num</th>\n",
       "      <th>month</th>\n",
       "      <th>message</th>\n",
       "      <th>time</th>\n",
       "    </tr>\n",
       "  </thead>\n",
       "  <tbody>\n",
       "    <tr>\n",
       "      <th>1</th>\n",
       "      <td>2022</td>\n",
       "      <td>4</td>\n",
       "      <td>April</td>\n",
       "      <td>96</td>\n",
       "      <td>April-2022</td>\n",
       "    </tr>\n",
       "    <tr>\n",
       "      <th>2</th>\n",
       "      <td>2022</td>\n",
       "      <td>5</td>\n",
       "      <td>May</td>\n",
       "      <td>99</td>\n",
       "      <td>May-2022</td>\n",
       "    </tr>\n",
       "    <tr>\n",
       "      <th>3</th>\n",
       "      <td>2022</td>\n",
       "      <td>6</td>\n",
       "      <td>June</td>\n",
       "      <td>83</td>\n",
       "      <td>June-2022</td>\n",
       "    </tr>\n",
       "    <tr>\n",
       "      <th>4</th>\n",
       "      <td>2022</td>\n",
       "      <td>7</td>\n",
       "      <td>July</td>\n",
       "      <td>58</td>\n",
       "      <td>July-2022</td>\n",
       "    </tr>\n",
       "    <tr>\n",
       "      <th>5</th>\n",
       "      <td>2022</td>\n",
       "      <td>8</td>\n",
       "      <td>August</td>\n",
       "      <td>121</td>\n",
       "      <td>August-2022</td>\n",
       "    </tr>\n",
       "    <tr>\n",
       "      <th>6</th>\n",
       "      <td>2022</td>\n",
       "      <td>9</td>\n",
       "      <td>September</td>\n",
       "      <td>62</td>\n",
       "      <td>September-2022</td>\n",
       "    </tr>\n",
       "    <tr>\n",
       "      <th>7</th>\n",
       "      <td>2022</td>\n",
       "      <td>10</td>\n",
       "      <td>October</td>\n",
       "      <td>129</td>\n",
       "      <td>October-2022</td>\n",
       "    </tr>\n",
       "    <tr>\n",
       "      <th>8</th>\n",
       "      <td>2022</td>\n",
       "      <td>11</td>\n",
       "      <td>November</td>\n",
       "      <td>84</td>\n",
       "      <td>November-2022</td>\n",
       "    </tr>\n",
       "    <tr>\n",
       "      <th>9</th>\n",
       "      <td>2022</td>\n",
       "      <td>12</td>\n",
       "      <td>December</td>\n",
       "      <td>50</td>\n",
       "      <td>December-2022</td>\n",
       "    </tr>\n",
       "    <tr>\n",
       "      <th>10</th>\n",
       "      <td>2023</td>\n",
       "      <td>1</td>\n",
       "      <td>January</td>\n",
       "      <td>61</td>\n",
       "      <td>January-2023</td>\n",
       "    </tr>\n",
       "    <tr>\n",
       "      <th>11</th>\n",
       "      <td>2023</td>\n",
       "      <td>2</td>\n",
       "      <td>February</td>\n",
       "      <td>62</td>\n",
       "      <td>February-2023</td>\n",
       "    </tr>\n",
       "    <tr>\n",
       "      <th>12</th>\n",
       "      <td>2023</td>\n",
       "      <td>3</td>\n",
       "      <td>March</td>\n",
       "      <td>29</td>\n",
       "      <td>March-2023</td>\n",
       "    </tr>\n",
       "    <tr>\n",
       "      <th>13</th>\n",
       "      <td>2023</td>\n",
       "      <td>4</td>\n",
       "      <td>April</td>\n",
       "      <td>33</td>\n",
       "      <td>April-2023</td>\n",
       "    </tr>\n",
       "    <tr>\n",
       "      <th>14</th>\n",
       "      <td>2023</td>\n",
       "      <td>5</td>\n",
       "      <td>May</td>\n",
       "      <td>11</td>\n",
       "      <td>May-2023</td>\n",
       "    </tr>\n",
       "    <tr>\n",
       "      <th>15</th>\n",
       "      <td>2023</td>\n",
       "      <td>6</td>\n",
       "      <td>June</td>\n",
       "      <td>57</td>\n",
       "      <td>June-2023</td>\n",
       "    </tr>\n",
       "    <tr>\n",
       "      <th>16</th>\n",
       "      <td>2023</td>\n",
       "      <td>7</td>\n",
       "      <td>July</td>\n",
       "      <td>86</td>\n",
       "      <td>July-2023</td>\n",
       "    </tr>\n",
       "    <tr>\n",
       "      <th>17</th>\n",
       "      <td>2023</td>\n",
       "      <td>8</td>\n",
       "      <td>August</td>\n",
       "      <td>45</td>\n",
       "      <td>August-2023</td>\n",
       "    </tr>\n",
       "    <tr>\n",
       "      <th>18</th>\n",
       "      <td>2023</td>\n",
       "      <td>9</td>\n",
       "      <td>September</td>\n",
       "      <td>153</td>\n",
       "      <td>September-2023</td>\n",
       "    </tr>\n",
       "    <tr>\n",
       "      <th>19</th>\n",
       "      <td>2023</td>\n",
       "      <td>10</td>\n",
       "      <td>October</td>\n",
       "      <td>2</td>\n",
       "      <td>October-2023</td>\n",
       "    </tr>\n",
       "  </tbody>\n",
       "</table>\n",
       "</div>"
      ],
      "text/plain": [
       "    year  month_num      month  message            time\n",
       "1   2022          4      April       96      April-2022\n",
       "2   2022          5        May       99        May-2022\n",
       "3   2022          6       June       83       June-2022\n",
       "4   2022          7       July       58       July-2022\n",
       "5   2022          8     August      121     August-2022\n",
       "6   2022          9  September       62  September-2022\n",
       "7   2022         10    October      129    October-2022\n",
       "8   2022         11   November       84   November-2022\n",
       "9   2022         12   December       50   December-2022\n",
       "10  2023          1    January       61    January-2023\n",
       "11  2023          2   February       62   February-2023\n",
       "12  2023          3      March       29      March-2023\n",
       "13  2023          4      April       33      April-2023\n",
       "14  2023          5        May       11        May-2023\n",
       "15  2023          6       June       57       June-2023\n",
       "16  2023          7       July       86       July-2023\n",
       "17  2023          8     August       45     August-2023\n",
       "18  2023          9  September      153  September-2023\n",
       "19  2023         10    October        2    October-2023"
      ]
     },
     "execution_count": 178,
     "metadata": {},
     "output_type": "execute_result"
    }
   ],
   "source": [
    "time = []\n",
    "for i in range(1, timeline_df.shape[0]+1):\n",
    "    time.append(timeline_df[\"month\"][i] + '-' + str(timeline_df[\"year\"][i]))\n",
    "timeline_df['time'] = time\n",
    "timeline_df"
   ]
  },
  {
   "cell_type": "markdown",
   "metadata": {},
   "source": [
    "#### Month Wise"
   ]
  },
  {
   "cell_type": "code",
   "execution_count": 179,
   "metadata": {},
   "outputs": [
    {
     "data": {
      "image/png": "[encoded data removed]",
      "text/plain": [
       "<Figure size 640x480 with 1 Axes>"
      ]
     },
     "metadata": {},
     "output_type": "display_data"
    }
   ],
   "source": [
    "plt.bar(timeline_df['time'], timeline_df['message'], facecolor='green', alpha=0.7)\n",
    "plt.scatter(timeline_df['time'], timeline_df['message'], color='blue', marker='o')\n",
    "plt.plot(timeline_df['time'], timeline_df['message'], color='blue')\n",
    "plt.xticks(rotation='vertical')\n",
    "plt.show()"
   ]
  },
  {
   "cell_type": "code",
   "execution_count": 180,
   "metadata": {},
   "outputs": [],
   "source": [
    "df['only_date'] = df['date'].dt.date"
   ]
  },
  {
   "cell_type": "code",
   "execution_count": 181,
   "metadata": {},
   "outputs": [
    {
     "data": {
      "text/html": [
       "<div>\n",
       "<style scoped>\n",
       "    .dataframe tbody tr th:only-of-type {\n",
       "        vertical-align: middle;\n",
       "    }\n",
       "\n",
       "    .dataframe tbody tr th {\n",
       "        vertical-align: top;\n",
       "    }\n",
       "\n",
       "    .dataframe thead th {\n",
       "        text-align: right;\n",
       "    }\n",
       "</style>\n",
       "<table border=\"1\" class=\"dataframe\">\n",
       "  <thead>\n",
       "    <tr style=\"text-align: right;\">\n",
       "      <th></th>\n",
       "      <th>only_date</th>\n",
       "      <th>message</th>\n",
       "    </tr>\n",
       "  </thead>\n",
       "  <tbody>\n",
       "    <tr>\n",
       "      <th>1</th>\n",
       "      <td>2022-04-14</td>\n",
       "      <td>13</td>\n",
       "    </tr>\n",
       "    <tr>\n",
       "      <th>2</th>\n",
       "      <td>2022-04-15</td>\n",
       "      <td>9</td>\n",
       "    </tr>\n",
       "    <tr>\n",
       "      <th>3</th>\n",
       "      <td>2022-04-16</td>\n",
       "      <td>11</td>\n",
       "    </tr>\n",
       "    <tr>\n",
       "      <th>4</th>\n",
       "      <td>2022-04-18</td>\n",
       "      <td>3</td>\n",
       "    </tr>\n",
       "    <tr>\n",
       "      <th>5</th>\n",
       "      <td>2022-04-19</td>\n",
       "      <td>11</td>\n",
       "    </tr>\n",
       "    <tr>\n",
       "      <th>6</th>\n",
       "      <td>2022-04-21</td>\n",
       "      <td>21</td>\n",
       "    </tr>\n",
       "    <tr>\n",
       "      <th>7</th>\n",
       "      <td>2022-04-24</td>\n",
       "      <td>8</td>\n",
       "    </tr>\n",
       "    <tr>\n",
       "      <th>8</th>\n",
       "      <td>2022-04-25</td>\n",
       "      <td>5</td>\n",
       "    </tr>\n",
       "    <tr>\n",
       "      <th>9</th>\n",
       "      <td>2022-04-26</td>\n",
       "      <td>7</td>\n",
       "    </tr>\n",
       "    <tr>\n",
       "      <th>10</th>\n",
       "      <td>2022-04-27</td>\n",
       "      <td>1</td>\n",
       "    </tr>\n",
       "  </tbody>\n",
       "</table>\n",
       "</div>"
      ],
      "text/plain": [
       "     only_date  message\n",
       "1   2022-04-14       13\n",
       "2   2022-04-15        9\n",
       "3   2022-04-16       11\n",
       "4   2022-04-18        3\n",
       "5   2022-04-19       11\n",
       "6   2022-04-21       21\n",
       "7   2022-04-24        8\n",
       "8   2022-04-25        5\n",
       "9   2022-04-26        7\n",
       "10  2022-04-27        1"
      ]
     },
     "execution_count": 181,
     "metadata": {},
     "output_type": "execute_result"
    }
   ],
   "source": [
    "daily_timeline_df = df.groupby('only_date').count()[\"message\"].reset_index()[1:]\n",
    "daily_timeline_df.head(10)"
   ]
  },
  {
   "cell_type": "markdown",
   "metadata": {},
   "source": [
    "#### daily wise"
   ]
  },
  {
   "cell_type": "code",
   "execution_count": 182,
   "metadata": {},
   "outputs": [
    {
     "data": {
      "image/png": "[encoded data removed]",
      "text/plain": [
       "<Figure size 640x480 with 1 Axes>"
      ]
     },
     "metadata": {},
     "output_type": "display_data"
    }
   ],
   "source": [
    "# plt.bar(daily_timeline_df['only_date'], daily_timeline_df['message'], facecolor='green', alpha=0.7)\n",
    "plt.scatter(daily_timeline_df['only_date'], daily_timeline_df['message'], color='red', marker='o', s=1)\n",
    "plt.plot(daily_timeline_df['only_date'], daily_timeline_df['message'], color='red', alpha=0.2)\n",
    "plt.xticks(rotation='vertical')\n",
    "plt.show()"
   ]
  },
  {
   "cell_type": "markdown",
   "metadata": {},
   "source": [
    "#### weekdays wise"
   ]
  },
  {
   "cell_type": "code",
   "execution_count": 183,
   "metadata": {},
   "outputs": [
    {
     "data": {
      "text/html": [
       "<div>\n",
       "<style scoped>\n",
       "    .dataframe tbody tr th:only-of-type {\n",
       "        vertical-align: middle;\n",
       "    }\n",
       "\n",
       "    .dataframe tbody tr th {\n",
       "        vertical-align: top;\n",
       "    }\n",
       "\n",
       "    .dataframe thead th {\n",
       "        text-align: right;\n",
       "    }\n",
       "</style>\n",
       "<table border=\"1\" class=\"dataframe\">\n",
       "  <thead>\n",
       "    <tr style=\"text-align: right;\">\n",
       "      <th></th>\n",
       "      <th>date</th>\n",
       "      <th>user</th>\n",
       "      <th>message</th>\n",
       "      <th>year</th>\n",
       "      <th>month</th>\n",
       "      <th>day</th>\n",
       "      <th>hour</th>\n",
       "      <th>minute</th>\n",
       "      <th>month_num</th>\n",
       "      <th>only_date</th>\n",
       "      <th>Weekday</th>\n",
       "    </tr>\n",
       "  </thead>\n",
       "  <tbody>\n",
       "    <tr>\n",
       "      <th>0</th>\n",
       "      <td>2019-08-07 14:44:43</td>\n",
       "      <td>Blogging Masters Program</td>\n",
       "      <td>‎Messages and calls are end-to-end encrypted. ...</td>\n",
       "      <td>2019</td>\n",
       "      <td>August</td>\n",
       "      <td>7</td>\n",
       "      <td>14</td>\n",
       "      <td>44</td>\n",
       "      <td>8</td>\n",
       "      <td>2019-08-07</td>\n",
       "      <td>Wednesday</td>\n",
       "    </tr>\n",
       "    <tr>\n",
       "      <th>1</th>\n",
       "      <td>2019-08-07 14:44:43</td>\n",
       "      <td>Blogging Masters Program</td>\n",
       "      <td>‎Group creator created this group\\n</td>\n",
       "      <td>2019</td>\n",
       "      <td>August</td>\n",
       "      <td>7</td>\n",
       "      <td>14</td>\n",
       "      <td>44</td>\n",
       "      <td>8</td>\n",
       "      <td>2019-08-07</td>\n",
       "      <td>Wednesday</td>\n",
       "    </tr>\n",
       "    <tr>\n",
       "      <th>2</th>\n",
       "      <td>2019-08-07 14:44:43</td>\n",
       "      <td>Blogging Masters Program</td>\n",
       "      <td>‎You were added\\n</td>\n",
       "      <td>2019</td>\n",
       "      <td>August</td>\n",
       "      <td>7</td>\n",
       "      <td>14</td>\n",
       "      <td>44</td>\n",
       "      <td>8</td>\n",
       "      <td>2019-08-07</td>\n",
       "      <td>Wednesday</td>\n",
       "    </tr>\n",
       "    <tr>\n",
       "      <th>3</th>\n",
       "      <td>2022-04-14 13:13:17</td>\n",
       "      <td>‪+91 70565 65602‬</td>\n",
       "      <td>‎‪+91 70565 65602‬ left\\n‎</td>\n",
       "      <td>2022</td>\n",
       "      <td>April</td>\n",
       "      <td>14</td>\n",
       "      <td>13</td>\n",
       "      <td>13</td>\n",
       "      <td>4</td>\n",
       "      <td>2022-04-14</td>\n",
       "      <td>Thursday</td>\n",
       "    </tr>\n",
       "    <tr>\n",
       "      <th>4</th>\n",
       "      <td>2022-04-14 12:51:06</td>\n",
       "      <td>Farhan Amit Sir</td>\n",
       "      <td>‎image omitted\\n</td>\n",
       "      <td>2022</td>\n",
       "      <td>April</td>\n",
       "      <td>14</td>\n",
       "      <td>12</td>\n",
       "      <td>51</td>\n",
       "      <td>4</td>\n",
       "      <td>2022-04-14</td>\n",
       "      <td>Thursday</td>\n",
       "    </tr>\n",
       "  </tbody>\n",
       "</table>\n",
       "</div>"
      ],
      "text/plain": [
       "                 date                      user  \\\n",
       "0 2019-08-07 14:44:43  Blogging Masters Program   \n",
       "1 2019-08-07 14:44:43  Blogging Masters Program   \n",
       "2 2019-08-07 14:44:43  Blogging Masters Program   \n",
       "3 2022-04-14 13:13:17         ‪+91 70565 65602‬   \n",
       "4 2022-04-14 12:51:06           Farhan Amit Sir   \n",
       "\n",
       "                                             message  year   month  day  hour  \\\n",
       "0  ‎Messages and calls are end-to-end encrypted. ...  2019  August    7    14   \n",
       "1                ‎Group creator created this group\\n  2019  August    7    14   \n",
       "2                                  ‎You were added\\n  2019  August    7    14   \n",
       "3                         ‎‪+91 70565 65602‬ left\\n‎  2022   April   14    13   \n",
       "4                                   ‎image omitted\\n  2022   April   14    12   \n",
       "\n",
       "   minute  month_num   only_date    Weekday  \n",
       "0      44          8  2019-08-07  Wednesday  \n",
       "1      44          8  2019-08-07  Wednesday  \n",
       "2      44          8  2019-08-07  Wednesday  \n",
       "3      13          4  2022-04-14   Thursday  \n",
       "4      51          4  2022-04-14   Thursday  "
      ]
     },
     "execution_count": 183,
     "metadata": {},
     "output_type": "execute_result"
    }
   ],
   "source": [
    "df['Weekday'] = df[\"date\"].dt.day_name()\n",
    "df.head()"
   ]
  },
  {
   "cell_type": "code",
   "execution_count": 184,
   "metadata": {},
   "outputs": [
    {
     "data": {
      "text/plain": [
       "0    260\n",
       "1    221\n",
       "2    190\n",
       "3    180\n",
       "4    166\n",
       "5    157\n",
       "6    150\n",
       "Name: count, dtype: int64"
      ]
     },
     "execution_count": 184,
     "metadata": {},
     "output_type": "execute_result"
    }
   ],
   "source": [
    "week_timeline_df = df['Weekday'].value_counts().reset_index()\n",
    "week_timeline_df[\"Weekday\"]\n",
    "week_timeline_df[\"count\"]"
   ]
  },
  {
   "cell_type": "code",
   "execution_count": 185,
   "metadata": {},
   "outputs": [
    {
     "data": {
      "image/png": "[encoded data removed]",
      "text/plain": [
       "<Figure size 640x480 with 1 Axes>"
      ]
     },
     "metadata": {},
     "output_type": "display_data"
    }
   ],
   "source": [
    "plt.bar(week_timeline_df[\"Weekday\"], week_timeline_df[\"count\"], facecolor='green', alpha=0.7)\n",
    "plt.scatter(week_timeline_df[\"Weekday\"], week_timeline_df[\"count\"], color='blue', marker='o')\n",
    "plt.plot(week_timeline_df[\"Weekday\"], week_timeline_df[\"count\"], color='blue')\n",
    "plt.xticks(rotation='vertical')\n",
    "plt.show()"
   ]
  },
  {
   "cell_type": "code",
   "execution_count": 186,
   "metadata": {},
   "outputs": [
    {
     "data": {
      "text/html": [
       "<div>\n",
       "<style scoped>\n",
       "    .dataframe tbody tr th:only-of-type {\n",
       "        vertical-align: middle;\n",
       "    }\n",
       "\n",
       "    .dataframe tbody tr th {\n",
       "        vertical-align: top;\n",
       "    }\n",
       "\n",
       "    .dataframe thead th {\n",
       "        text-align: right;\n",
       "    }\n",
       "</style>\n",
       "<table border=\"1\" class=\"dataframe\">\n",
       "  <thead>\n",
       "    <tr style=\"text-align: right;\">\n",
       "      <th></th>\n",
       "      <th>date</th>\n",
       "      <th>user</th>\n",
       "      <th>message</th>\n",
       "      <th>year</th>\n",
       "      <th>month</th>\n",
       "      <th>day</th>\n",
       "      <th>hour</th>\n",
       "      <th>minute</th>\n",
       "      <th>month_num</th>\n",
       "      <th>only_date</th>\n",
       "      <th>Weekday</th>\n",
       "    </tr>\n",
       "  </thead>\n",
       "  <tbody>\n",
       "    <tr>\n",
       "      <th>0</th>\n",
       "      <td>2019-08-07 14:44:43</td>\n",
       "      <td>Blogging Masters Program</td>\n",
       "      <td>‎Messages and calls are end-to-end encrypted. ...</td>\n",
       "      <td>2019</td>\n",
       "      <td>August</td>\n",
       "      <td>7</td>\n",
       "      <td>14</td>\n",
       "      <td>44</td>\n",
       "      <td>8</td>\n",
       "      <td>2019-08-07</td>\n",
       "      <td>Wednesday</td>\n",
       "    </tr>\n",
       "    <tr>\n",
       "      <th>1</th>\n",
       "      <td>2019-08-07 14:44:43</td>\n",
       "      <td>Blogging Masters Program</td>\n",
       "      <td>‎Group creator created this group\\n</td>\n",
       "      <td>2019</td>\n",
       "      <td>August</td>\n",
       "      <td>7</td>\n",
       "      <td>14</td>\n",
       "      <td>44</td>\n",
       "      <td>8</td>\n",
       "      <td>2019-08-07</td>\n",
       "      <td>Wednesday</td>\n",
       "    </tr>\n",
       "    <tr>\n",
       "      <th>2</th>\n",
       "      <td>2019-08-07 14:44:43</td>\n",
       "      <td>Blogging Masters Program</td>\n",
       "      <td>‎You were added\\n</td>\n",
       "      <td>2019</td>\n",
       "      <td>August</td>\n",
       "      <td>7</td>\n",
       "      <td>14</td>\n",
       "      <td>44</td>\n",
       "      <td>8</td>\n",
       "      <td>2019-08-07</td>\n",
       "      <td>Wednesday</td>\n",
       "    </tr>\n",
       "    <tr>\n",
       "      <th>3</th>\n",
       "      <td>2022-04-14 13:13:17</td>\n",
       "      <td>‪+91 70565 65602‬</td>\n",
       "      <td>‎‪+91 70565 65602‬ left\\n‎</td>\n",
       "      <td>2022</td>\n",
       "      <td>April</td>\n",
       "      <td>14</td>\n",
       "      <td>13</td>\n",
       "      <td>13</td>\n",
       "      <td>4</td>\n",
       "      <td>2022-04-14</td>\n",
       "      <td>Thursday</td>\n",
       "    </tr>\n",
       "    <tr>\n",
       "      <th>4</th>\n",
       "      <td>2022-04-14 12:51:06</td>\n",
       "      <td>Farhan Amit Sir</td>\n",
       "      <td>‎image omitted\\n</td>\n",
       "      <td>2022</td>\n",
       "      <td>April</td>\n",
       "      <td>14</td>\n",
       "      <td>12</td>\n",
       "      <td>51</td>\n",
       "      <td>4</td>\n",
       "      <td>2022-04-14</td>\n",
       "      <td>Thursday</td>\n",
       "    </tr>\n",
       "  </tbody>\n",
       "</table>\n",
       "</div>"
      ],
      "text/plain": [
       "                 date                      user  \\\n",
       "0 2019-08-07 14:44:43  Blogging Masters Program   \n",
       "1 2019-08-07 14:44:43  Blogging Masters Program   \n",
       "2 2019-08-07 14:44:43  Blogging Masters Program   \n",
       "3 2022-04-14 13:13:17         ‪+91 70565 65602‬   \n",
       "4 2022-04-14 12:51:06           Farhan Amit Sir   \n",
       "\n",
       "                                             message  year   month  day  hour  \\\n",
       "0  ‎Messages and calls are end-to-end encrypted. ...  2019  August    7    14   \n",
       "1                ‎Group creator created this group\\n  2019  August    7    14   \n",
       "2                                  ‎You were added\\n  2019  August    7    14   \n",
       "3                         ‎‪+91 70565 65602‬ left\\n‎  2022   April   14    13   \n",
       "4                                   ‎image omitted\\n  2022   April   14    12   \n",
       "\n",
       "   minute  month_num   only_date    Weekday  \n",
       "0      44          8  2019-08-07  Wednesday  \n",
       "1      44          8  2019-08-07  Wednesday  \n",
       "2      44          8  2019-08-07  Wednesday  \n",
       "3      13          4  2022-04-14   Thursday  \n",
       "4      51          4  2022-04-14   Thursday  "
      ]
     },
     "execution_count": 186,
     "metadata": {},
     "output_type": "execute_result"
    }
   ],
   "source": [
    "df.head()"
   ]
  },
  {
   "cell_type": "code",
   "execution_count": 187,
   "metadata": {},
   "outputs": [],
   "source": [
    "period = []\n",
    "for hour in df[['hour','Weekday']]['hour']:\n",
    "    if hour == 23:\n",
    "        period. append(str(hour) + \"-\" + str('00' ))\n",
    "    elif hour == 0:\n",
    "        period.append(str('00') + \"-\" + str(hour+1))\n",
    "    else:\n",
    "        period.append(str(hour) + \"-\" + str(hour+1))\n",
    "df['period']=period"
   ]
  },
  {
   "cell_type": "code",
   "execution_count": 188,
   "metadata": {},
   "outputs": [
    {
     "data": {
      "text/html": [
       "<div>\n",
       "<style scoped>\n",
       "    .dataframe tbody tr th:only-of-type {\n",
       "        vertical-align: middle;\n",
       "    }\n",
       "\n",
       "    .dataframe tbody tr th {\n",
       "        vertical-align: top;\n",
       "    }\n",
       "\n",
       "    .dataframe thead th {\n",
       "        text-align: right;\n",
       "    }\n",
       "</style>\n",
       "<table border=\"1\" class=\"dataframe\">\n",
       "  <thead>\n",
       "    <tr style=\"text-align: right;\">\n",
       "      <th></th>\n",
       "      <th>date</th>\n",
       "      <th>user</th>\n",
       "      <th>message</th>\n",
       "      <th>year</th>\n",
       "      <th>month</th>\n",
       "      <th>day</th>\n",
       "      <th>hour</th>\n",
       "      <th>minute</th>\n",
       "      <th>month_num</th>\n",
       "      <th>only_date</th>\n",
       "      <th>Weekday</th>\n",
       "      <th>period</th>\n",
       "    </tr>\n",
       "  </thead>\n",
       "  <tbody>\n",
       "    <tr>\n",
       "      <th>0</th>\n",
       "      <td>2019-08-07 14:44:43</td>\n",
       "      <td>Blogging Masters Program</td>\n",
       "      <td>‎Messages and calls are end-to-end encrypted. ...</td>\n",
       "      <td>2019</td>\n",
       "      <td>August</td>\n",
       "      <td>7</td>\n",
       "      <td>14</td>\n",
       "      <td>44</td>\n",
       "      <td>8</td>\n",
       "      <td>2019-08-07</td>\n",
       "      <td>Wednesday</td>\n",
       "      <td>14-15</td>\n",
       "    </tr>\n",
       "    <tr>\n",
       "      <th>1</th>\n",
       "      <td>2019-08-07 14:44:43</td>\n",
       "      <td>Blogging Masters Program</td>\n",
       "      <td>‎Group creator created this group\\n</td>\n",
       "      <td>2019</td>\n",
       "      <td>August</td>\n",
       "      <td>7</td>\n",
       "      <td>14</td>\n",
       "      <td>44</td>\n",
       "      <td>8</td>\n",
       "      <td>2019-08-07</td>\n",
       "      <td>Wednesday</td>\n",
       "      <td>14-15</td>\n",
       "    </tr>\n",
       "    <tr>\n",
       "      <th>2</th>\n",
       "      <td>2019-08-07 14:44:43</td>\n",
       "      <td>Blogging Masters Program</td>\n",
       "      <td>‎You were added\\n</td>\n",
       "      <td>2019</td>\n",
       "      <td>August</td>\n",
       "      <td>7</td>\n",
       "      <td>14</td>\n",
       "      <td>44</td>\n",
       "      <td>8</td>\n",
       "      <td>2019-08-07</td>\n",
       "      <td>Wednesday</td>\n",
       "      <td>14-15</td>\n",
       "    </tr>\n",
       "    <tr>\n",
       "      <th>3</th>\n",
       "      <td>2022-04-14 13:13:17</td>\n",
       "      <td>‪+91 70565 65602‬</td>\n",
       "      <td>‎‪+91 70565 65602‬ left\\n‎</td>\n",
       "      <td>2022</td>\n",
       "      <td>April</td>\n",
       "      <td>14</td>\n",
       "      <td>13</td>\n",
       "      <td>13</td>\n",
       "      <td>4</td>\n",
       "      <td>2022-04-14</td>\n",
       "      <td>Thursday</td>\n",
       "      <td>13-14</td>\n",
       "    </tr>\n",
       "    <tr>\n",
       "      <th>4</th>\n",
       "      <td>2022-04-14 12:51:06</td>\n",
       "      <td>Farhan Amit Sir</td>\n",
       "      <td>‎image omitted\\n</td>\n",
       "      <td>2022</td>\n",
       "      <td>April</td>\n",
       "      <td>14</td>\n",
       "      <td>12</td>\n",
       "      <td>51</td>\n",
       "      <td>4</td>\n",
       "      <td>2022-04-14</td>\n",
       "      <td>Thursday</td>\n",
       "      <td>12-13</td>\n",
       "    </tr>\n",
       "  </tbody>\n",
       "</table>\n",
       "</div>"
      ],
      "text/plain": [
       "                 date                      user  \\\n",
       "0 2019-08-07 14:44:43  Blogging Masters Program   \n",
       "1 2019-08-07 14:44:43  Blogging Masters Program   \n",
       "2 2019-08-07 14:44:43  Blogging Masters Program   \n",
       "3 2022-04-14 13:13:17         ‪+91 70565 65602‬   \n",
       "4 2022-04-14 12:51:06           Farhan Amit Sir   \n",
       "\n",
       "                                             message  year   month  day  hour  \\\n",
       "0  ‎Messages and calls are end-to-end encrypted. ...  2019  August    7    14   \n",
       "1                ‎Group creator created this group\\n  2019  August    7    14   \n",
       "2                                  ‎You were added\\n  2019  August    7    14   \n",
       "3                         ‎‪+91 70565 65602‬ left\\n‎  2022   April   14    13   \n",
       "4                                   ‎image omitted\\n  2022   April   14    12   \n",
       "\n",
       "   minute  month_num   only_date    Weekday period  \n",
       "0      44          8  2019-08-07  Wednesday  14-15  \n",
       "1      44          8  2019-08-07  Wednesday  14-15  \n",
       "2      44          8  2019-08-07  Wednesday  14-15  \n",
       "3      13          4  2022-04-14   Thursday  13-14  \n",
       "4      51          4  2022-04-14   Thursday  12-13  "
      ]
     },
     "execution_count": 188,
     "metadata": {},
     "output_type": "execute_result"
    }
   ],
   "source": [
    "df.head()"
   ]
  },
  {
   "cell_type": "markdown",
   "metadata": {},
   "source": [
    "- added period for better understanding of duration"
   ]
  },
  {
   "cell_type": "code",
   "execution_count": 189,
   "metadata": {},
   "outputs": [
    {
     "data": {
      "text/html": [
       "<div>\n",
       "<style scoped>\n",
       "    .dataframe tbody tr th:only-of-type {\n",
       "        vertical-align: middle;\n",
       "    }\n",
       "\n",
       "    .dataframe tbody tr th {\n",
       "        vertical-align: top;\n",
       "    }\n",
       "\n",
       "    .dataframe thead th {\n",
       "        text-align: right;\n",
       "    }\n",
       "</style>\n",
       "<table border=\"1\" class=\"dataframe\">\n",
       "  <thead>\n",
       "    <tr style=\"text-align: right;\">\n",
       "      <th></th>\n",
       "      <th>hour</th>\n",
       "      <th>period</th>\n",
       "      <th>message</th>\n",
       "    </tr>\n",
       "  </thead>\n",
       "  <tbody>\n",
       "    <tr>\n",
       "      <th>0</th>\n",
       "      <td>0</td>\n",
       "      <td>00-1</td>\n",
       "      <td>30</td>\n",
       "    </tr>\n",
       "    <tr>\n",
       "      <th>1</th>\n",
       "      <td>1</td>\n",
       "      <td>1-2</td>\n",
       "      <td>9</td>\n",
       "    </tr>\n",
       "    <tr>\n",
       "      <th>2</th>\n",
       "      <td>2</td>\n",
       "      <td>2-3</td>\n",
       "      <td>7</td>\n",
       "    </tr>\n",
       "    <tr>\n",
       "      <th>3</th>\n",
       "      <td>3</td>\n",
       "      <td>3-4</td>\n",
       "      <td>3</td>\n",
       "    </tr>\n",
       "    <tr>\n",
       "      <th>4</th>\n",
       "      <td>4</td>\n",
       "      <td>4-5</td>\n",
       "      <td>3</td>\n",
       "    </tr>\n",
       "    <tr>\n",
       "      <th>5</th>\n",
       "      <td>5</td>\n",
       "      <td>5-6</td>\n",
       "      <td>2</td>\n",
       "    </tr>\n",
       "    <tr>\n",
       "      <th>6</th>\n",
       "      <td>6</td>\n",
       "      <td>6-7</td>\n",
       "      <td>8</td>\n",
       "    </tr>\n",
       "    <tr>\n",
       "      <th>7</th>\n",
       "      <td>7</td>\n",
       "      <td>7-8</td>\n",
       "      <td>16</td>\n",
       "    </tr>\n",
       "    <tr>\n",
       "      <th>8</th>\n",
       "      <td>8</td>\n",
       "      <td>8-9</td>\n",
       "      <td>41</td>\n",
       "    </tr>\n",
       "    <tr>\n",
       "      <th>9</th>\n",
       "      <td>9</td>\n",
       "      <td>9-10</td>\n",
       "      <td>64</td>\n",
       "    </tr>\n",
       "    <tr>\n",
       "      <th>10</th>\n",
       "      <td>10</td>\n",
       "      <td>10-11</td>\n",
       "      <td>81</td>\n",
       "    </tr>\n",
       "    <tr>\n",
       "      <th>11</th>\n",
       "      <td>11</td>\n",
       "      <td>11-12</td>\n",
       "      <td>117</td>\n",
       "    </tr>\n",
       "    <tr>\n",
       "      <th>12</th>\n",
       "      <td>12</td>\n",
       "      <td>12-13</td>\n",
       "      <td>119</td>\n",
       "    </tr>\n",
       "    <tr>\n",
       "      <th>13</th>\n",
       "      <td>13</td>\n",
       "      <td>13-14</td>\n",
       "      <td>71</td>\n",
       "    </tr>\n",
       "    <tr>\n",
       "      <th>14</th>\n",
       "      <td>14</td>\n",
       "      <td>14-15</td>\n",
       "      <td>86</td>\n",
       "    </tr>\n",
       "    <tr>\n",
       "      <th>15</th>\n",
       "      <td>15</td>\n",
       "      <td>15-16</td>\n",
       "      <td>82</td>\n",
       "    </tr>\n",
       "    <tr>\n",
       "      <th>16</th>\n",
       "      <td>16</td>\n",
       "      <td>16-17</td>\n",
       "      <td>78</td>\n",
       "    </tr>\n",
       "    <tr>\n",
       "      <th>17</th>\n",
       "      <td>17</td>\n",
       "      <td>17-18</td>\n",
       "      <td>78</td>\n",
       "    </tr>\n",
       "    <tr>\n",
       "      <th>18</th>\n",
       "      <td>18</td>\n",
       "      <td>18-19</td>\n",
       "      <td>47</td>\n",
       "    </tr>\n",
       "    <tr>\n",
       "      <th>19</th>\n",
       "      <td>19</td>\n",
       "      <td>19-20</td>\n",
       "      <td>68</td>\n",
       "    </tr>\n",
       "    <tr>\n",
       "      <th>20</th>\n",
       "      <td>20</td>\n",
       "      <td>20-21</td>\n",
       "      <td>124</td>\n",
       "    </tr>\n",
       "    <tr>\n",
       "      <th>21</th>\n",
       "      <td>21</td>\n",
       "      <td>21-22</td>\n",
       "      <td>81</td>\n",
       "    </tr>\n",
       "    <tr>\n",
       "      <th>22</th>\n",
       "      <td>22</td>\n",
       "      <td>22-23</td>\n",
       "      <td>67</td>\n",
       "    </tr>\n",
       "    <tr>\n",
       "      <th>23</th>\n",
       "      <td>23</td>\n",
       "      <td>23-00</td>\n",
       "      <td>42</td>\n",
       "    </tr>\n",
       "  </tbody>\n",
       "</table>\n",
       "</div>"
      ],
      "text/plain": [
       "    hour period  message\n",
       "0      0   00-1       30\n",
       "1      1    1-2        9\n",
       "2      2    2-3        7\n",
       "3      3    3-4        3\n",
       "4      4    4-5        3\n",
       "5      5    5-6        2\n",
       "6      6    6-7        8\n",
       "7      7    7-8       16\n",
       "8      8    8-9       41\n",
       "9      9   9-10       64\n",
       "10    10  10-11       81\n",
       "11    11  11-12      117\n",
       "12    12  12-13      119\n",
       "13    13  13-14       71\n",
       "14    14  14-15       86\n",
       "15    15  15-16       82\n",
       "16    16  16-17       78\n",
       "17    17  17-18       78\n",
       "18    18  18-19       47\n",
       "19    19  19-20       68\n",
       "20    20  20-21      124\n",
       "21    21  21-22       81\n",
       "22    22  22-23       67\n",
       "23    23  23-00       42"
      ]
     },
     "execution_count": 189,
     "metadata": {},
     "output_type": "execute_result"
    }
   ],
   "source": [
    "hour_timeline_df = df.groupby(['hour','period']).count()[\"message\"].reset_index()\n",
    "hour_timeline_df"
   ]
  },
  {
   "cell_type": "code",
   "execution_count": 190,
   "metadata": {},
   "outputs": [
    {
     "data": {
      "image/png": "[encoded data removed]",
      "text/plain": [
       "<Figure size 640x480 with 1 Axes>"
      ]
     },
     "metadata": {},
     "output_type": "display_data"
    }
   ],
   "source": [
    "plt.bar(hour_timeline_df[\"hour\"], hour_timeline_df[\"message\"], facecolor='green', alpha=0.7)\n",
    "plt.scatter(hour_timeline_df[\"hour\"], hour_timeline_df[\"message\"], color='blue', marker='o')\n",
    "plt.plot(hour_timeline_df[\"hour\"], hour_timeline_df[\"message\"], color='blue')\n",
    "plt.xticks(rotation='vertical')\n",
    "plt.show()"
   ]
  },
  {
   "cell_type": "code",
   "execution_count": 191,
   "metadata": {},
   "outputs": [
    {
     "data": {
      "text/html": [
       "<div>\n",
       "<style scoped>\n",
       "    .dataframe tbody tr th:only-of-type {\n",
       "        vertical-align: middle;\n",
       "    }\n",
       "\n",
       "    .dataframe tbody tr th {\n",
       "        vertical-align: top;\n",
       "    }\n",
       "\n",
       "    .dataframe thead th {\n",
       "        text-align: right;\n",
       "    }\n",
       "</style>\n",
       "<table border=\"1\" class=\"dataframe\">\n",
       "  <thead>\n",
       "    <tr style=\"text-align: right;\">\n",
       "      <th>period</th>\n",
       "      <th>00-1</th>\n",
       "      <th>1-2</th>\n",
       "      <th>10-11</th>\n",
       "      <th>11-12</th>\n",
       "      <th>12-13</th>\n",
       "      <th>13-14</th>\n",
       "      <th>14-15</th>\n",
       "      <th>15-16</th>\n",
       "      <th>16-17</th>\n",
       "      <th>17-18</th>\n",
       "      <th>...</th>\n",
       "      <th>21-22</th>\n",
       "      <th>22-23</th>\n",
       "      <th>23-00</th>\n",
       "      <th>3-4</th>\n",
       "      <th>4-5</th>\n",
       "      <th>5-6</th>\n",
       "      <th>6-7</th>\n",
       "      <th>7-8</th>\n",
       "      <th>8-9</th>\n",
       "      <th>9-10</th>\n",
       "    </tr>\n",
       "    <tr>\n",
       "      <th>Weekday</th>\n",
       "      <th></th>\n",
       "      <th></th>\n",
       "      <th></th>\n",
       "      <th></th>\n",
       "      <th></th>\n",
       "      <th></th>\n",
       "      <th></th>\n",
       "      <th></th>\n",
       "      <th></th>\n",
       "      <th></th>\n",
       "      <th></th>\n",
       "      <th></th>\n",
       "      <th></th>\n",
       "      <th></th>\n",
       "      <th></th>\n",
       "      <th></th>\n",
       "      <th></th>\n",
       "      <th></th>\n",
       "      <th></th>\n",
       "      <th></th>\n",
       "      <th></th>\n",
       "    </tr>\n",
       "  </thead>\n",
       "  <tbody>\n",
       "    <tr>\n",
       "      <th>Friday</th>\n",
       "      <td>4.0</td>\n",
       "      <td>NaN</td>\n",
       "      <td>8.0</td>\n",
       "      <td>19.0</td>\n",
       "      <td>27.0</td>\n",
       "      <td>11.0</td>\n",
       "      <td>3.0</td>\n",
       "      <td>2.0</td>\n",
       "      <td>10.0</td>\n",
       "      <td>1.0</td>\n",
       "      <td>...</td>\n",
       "      <td>7.0</td>\n",
       "      <td>9.0</td>\n",
       "      <td>6.0</td>\n",
       "      <td>1.0</td>\n",
       "      <td>NaN</td>\n",
       "      <td>NaN</td>\n",
       "      <td>NaN</td>\n",
       "      <td>1.0</td>\n",
       "      <td>3.0</td>\n",
       "      <td>7.0</td>\n",
       "    </tr>\n",
       "    <tr>\n",
       "      <th>Monday</th>\n",
       "      <td>1.0</td>\n",
       "      <td>2.0</td>\n",
       "      <td>18.0</td>\n",
       "      <td>10.0</td>\n",
       "      <td>34.0</td>\n",
       "      <td>11.0</td>\n",
       "      <td>8.0</td>\n",
       "      <td>7.0</td>\n",
       "      <td>16.0</td>\n",
       "      <td>17.0</td>\n",
       "      <td>...</td>\n",
       "      <td>14.0</td>\n",
       "      <td>5.0</td>\n",
       "      <td>9.0</td>\n",
       "      <td>2.0</td>\n",
       "      <td>NaN</td>\n",
       "      <td>NaN</td>\n",
       "      <td>1.0</td>\n",
       "      <td>4.0</td>\n",
       "      <td>9.0</td>\n",
       "      <td>6.0</td>\n",
       "    </tr>\n",
       "    <tr>\n",
       "      <th>Saturday</th>\n",
       "      <td>NaN</td>\n",
       "      <td>2.0</td>\n",
       "      <td>9.0</td>\n",
       "      <td>22.0</td>\n",
       "      <td>6.0</td>\n",
       "      <td>9.0</td>\n",
       "      <td>25.0</td>\n",
       "      <td>13.0</td>\n",
       "      <td>21.0</td>\n",
       "      <td>11.0</td>\n",
       "      <td>...</td>\n",
       "      <td>5.0</td>\n",
       "      <td>9.0</td>\n",
       "      <td>4.0</td>\n",
       "      <td>NaN</td>\n",
       "      <td>NaN</td>\n",
       "      <td>NaN</td>\n",
       "      <td>NaN</td>\n",
       "      <td>2.0</td>\n",
       "      <td>5.0</td>\n",
       "      <td>16.0</td>\n",
       "    </tr>\n",
       "    <tr>\n",
       "      <th>Sunday</th>\n",
       "      <td>18.0</td>\n",
       "      <td>NaN</td>\n",
       "      <td>10.0</td>\n",
       "      <td>10.0</td>\n",
       "      <td>6.0</td>\n",
       "      <td>11.0</td>\n",
       "      <td>27.0</td>\n",
       "      <td>37.0</td>\n",
       "      <td>8.0</td>\n",
       "      <td>21.0</td>\n",
       "      <td>...</td>\n",
       "      <td>8.0</td>\n",
       "      <td>21.0</td>\n",
       "      <td>6.0</td>\n",
       "      <td>NaN</td>\n",
       "      <td>3.0</td>\n",
       "      <td>2.0</td>\n",
       "      <td>1.0</td>\n",
       "      <td>1.0</td>\n",
       "      <td>1.0</td>\n",
       "      <td>10.0</td>\n",
       "    </tr>\n",
       "    <tr>\n",
       "      <th>Thursday</th>\n",
       "      <td>4.0</td>\n",
       "      <td>2.0</td>\n",
       "      <td>12.0</td>\n",
       "      <td>23.0</td>\n",
       "      <td>19.0</td>\n",
       "      <td>15.0</td>\n",
       "      <td>NaN</td>\n",
       "      <td>6.0</td>\n",
       "      <td>11.0</td>\n",
       "      <td>11.0</td>\n",
       "      <td>...</td>\n",
       "      <td>25.0</td>\n",
       "      <td>9.0</td>\n",
       "      <td>8.0</td>\n",
       "      <td>NaN</td>\n",
       "      <td>NaN</td>\n",
       "      <td>NaN</td>\n",
       "      <td>2.0</td>\n",
       "      <td>2.0</td>\n",
       "      <td>5.0</td>\n",
       "      <td>12.0</td>\n",
       "    </tr>\n",
       "    <tr>\n",
       "      <th>Tuesday</th>\n",
       "      <td>1.0</td>\n",
       "      <td>2.0</td>\n",
       "      <td>12.0</td>\n",
       "      <td>21.0</td>\n",
       "      <td>7.0</td>\n",
       "      <td>1.0</td>\n",
       "      <td>14.0</td>\n",
       "      <td>4.0</td>\n",
       "      <td>6.0</td>\n",
       "      <td>10.0</td>\n",
       "      <td>...</td>\n",
       "      <td>11.0</td>\n",
       "      <td>8.0</td>\n",
       "      <td>3.0</td>\n",
       "      <td>NaN</td>\n",
       "      <td>NaN</td>\n",
       "      <td>NaN</td>\n",
       "      <td>2.0</td>\n",
       "      <td>5.0</td>\n",
       "      <td>14.0</td>\n",
       "      <td>7.0</td>\n",
       "    </tr>\n",
       "    <tr>\n",
       "      <th>Wednesday</th>\n",
       "      <td>2.0</td>\n",
       "      <td>1.0</td>\n",
       "      <td>12.0</td>\n",
       "      <td>12.0</td>\n",
       "      <td>20.0</td>\n",
       "      <td>13.0</td>\n",
       "      <td>9.0</td>\n",
       "      <td>13.0</td>\n",
       "      <td>6.0</td>\n",
       "      <td>7.0</td>\n",
       "      <td>...</td>\n",
       "      <td>11.0</td>\n",
       "      <td>6.0</td>\n",
       "      <td>6.0</td>\n",
       "      <td>NaN</td>\n",
       "      <td>NaN</td>\n",
       "      <td>NaN</td>\n",
       "      <td>2.0</td>\n",
       "      <td>1.0</td>\n",
       "      <td>4.0</td>\n",
       "      <td>6.0</td>\n",
       "    </tr>\n",
       "  </tbody>\n",
       "</table>\n",
       "<p>7 rows × 24 columns</p>\n",
       "</div>"
      ],
      "text/plain": [
       "period     00-1  1-2  10-11  11-12  12-13  13-14  14-15  15-16  16-17  17-18  \\\n",
       "Weekday                                                                        \n",
       "Friday      4.0  NaN    8.0   19.0   27.0   11.0    3.0    2.0   10.0    1.0   \n",
       "Monday      1.0  2.0   18.0   10.0   34.0   11.0    8.0    7.0   16.0   17.0   \n",
       "Saturday    NaN  2.0    9.0   22.0    6.0    9.0   25.0   13.0   21.0   11.0   \n",
       "Sunday     18.0  NaN   10.0   10.0    6.0   11.0   27.0   37.0    8.0   21.0   \n",
       "Thursday    4.0  2.0   12.0   23.0   19.0   15.0    NaN    6.0   11.0   11.0   \n",
       "Tuesday     1.0  2.0   12.0   21.0    7.0    1.0   14.0    4.0    6.0   10.0   \n",
       "Wednesday   2.0  1.0   12.0   12.0   20.0   13.0    9.0   13.0    6.0    7.0   \n",
       "\n",
       "period     ...  21-22  22-23  23-00  3-4  4-5  5-6  6-7  7-8   8-9  9-10  \n",
       "Weekday    ...                                                            \n",
       "Friday     ...    7.0    9.0    6.0  1.0  NaN  NaN  NaN  1.0   3.0   7.0  \n",
       "Monday     ...   14.0    5.0    9.0  2.0  NaN  NaN  1.0  4.0   9.0   6.0  \n",
       "Saturday   ...    5.0    9.0    4.0  NaN  NaN  NaN  NaN  2.0   5.0  16.0  \n",
       "Sunday     ...    8.0   21.0    6.0  NaN  3.0  2.0  1.0  1.0   1.0  10.0  \n",
       "Thursday   ...   25.0    9.0    8.0  NaN  NaN  NaN  2.0  2.0   5.0  12.0  \n",
       "Tuesday    ...   11.0    8.0    3.0  NaN  NaN  NaN  2.0  5.0  14.0   7.0  \n",
       "Wednesday  ...   11.0    6.0    6.0  NaN  NaN  NaN  2.0  1.0   4.0   6.0  \n",
       "\n",
       "[7 rows x 24 columns]"
      ]
     },
     "execution_count": 191,
     "metadata": {},
     "output_type": "execute_result"
    }
   ],
   "source": [
    "heatmap_df = df.pivot_table(index='Weekday', columns='period', values='message', aggfunc='count')\n",
    "heatmap_df"
   ]
  },
  {
   "cell_type": "code",
   "execution_count": 192,
   "metadata": {},
   "outputs": [
    {
     "data": {
      "image/png": "[encoded data removed]",
      "text/plain": [
       "<Figure size 2000x1000 with 2 Axes>"
      ]
     },
     "metadata": {},
     "output_type": "display_data"
    }
   ],
   "source": [
    "plt.figure(figsize=(20,10))\n",
    "light_palette = sns.color_palette(\"light:b\")\n",
    "sns.heatmap(heatmap_df, cmap=light_palette)\n",
    "plt.yticks(rotation='horizontal')\n",
    "plt.show()"
   ]
  },
  {
   "cell_type": "markdown",
   "metadata": {},
   "source": [
    "#### Individual level information"
   ]
  },
  {
   "cell_type": "code",
   "execution_count": null,
   "metadata": {},
   "outputs": [],
   "source": [
    "user_most_active_weekday = df[df[\"user\"]=='Nilay 2nd Floor'].groupby('Weekday').count()[\"message\"].sort_values(ascending=False).reset_index()[\"Weekday\"][1]"
   ]
  },
  {
   "cell_type": "code",
   "execution_count": null,
   "metadata": {},
   "outputs": [
    {
     "data": {
      "text/plain": [
       "2"
      ]
     },
     "execution_count": 58,
     "metadata": {},
     "output_type": "execute_result"
    }
   ],
   "source": [
    "active_users = df[\"user\"].value_counts()[df[\"user\"].value_counts()>10].reset_index()\n",
    "active_users[active_users.user=='Aayush'].index[0]"
   ]
  },
  {
   "cell_type": "markdown",
   "metadata": {},
   "source": [
    "# Test Area"
   ]
  },
  {
   "cell_type": "code",
   "execution_count": null,
   "metadata": {},
   "outputs": [
    {
     "data": {
      "text/plain": [
       "['Nilay 2nd Floor', 'Ashish Yadav Amity', 'Aayush', 'Ritesh Amity']"
      ]
     },
     "execution_count": 75,
     "metadata": {},
     "output_type": "execute_result"
    }
   ],
   "source": [
    "df[\"user\"].value_counts()[df[\"user\"].value_counts()>10].reset_index()['user'].tolist()"
   ]
  },
  {
   "cell_type": "code",
   "execution_count": null,
   "metadata": {},
   "outputs": [],
   "source": [
    "users_list = df[\"user\"].value_counts()[df[\"user\"].value_counts()>10].reset_index()['user'].tolist()"
   ]
  },
  {
   "cell_type": "code",
   "execution_count": null,
   "metadata": {},
   "outputs": [
    {
     "name": "stdout",
     "output_type": "stream",
     "text": [
      "‎image\n"
     ]
    }
   ],
   "source": [
    "media_msg = df[df[\"message\"].str.contains('omitted')][\"message\"].to_list()\n",
    "media_type = []\n",
    "for i in media_msg:\n",
    "    new = re.sub('^a-zA-Z','', i)\n",
    "    new = new.split()[0]\n",
    "    media_type.append(new)\n",
    "top_media_df =  pd.DataFrame(media_type,columns=['Media']).value_counts().reset_index().head(5)"
   ]
  },
  {
   "cell_type": "code",
   "execution_count": null,
   "metadata": {},
   "outputs": [
    {
     "data": {
      "application/vnd.plotly.v1+json": {
       "config": {
        "plotlyServerURL": "https://plot.ly"
       },
       "data": [
        {
         "domain": {
          "x": [
           0,
           1
          ],
          "y": [
           0,
           1
          ]
         },
         "hovertemplate": "Media=%{label}<br>count=%{value}<extra></extra>",
         "labels": [
          "‎image",
          "‎sticker",
          "‎video",
          "‎GIF",
          "‎audio"
         ],
         "legendgroup": "",
         "name": "",
         "showlegend": true,
         "type": "pie",
         "values": [
          1175,
          1160,
          121,
          104,
          6
         ]
        }
       ],
       "layout": {
        "legend": {
         "tracegroupgap": 0
        },
        "template": {
         "data": {
          "candlestick": [
           {
            "decreasing": {
             "line": {
              "color": "#000033"
             }
            },
            "increasing": {
             "line": {
              "color": "#000032"
             }
            },
            "type": "candlestick"
           }
          ],
          "contour": [
           {
            "colorscale": [
             [
              0,
              "#000011"
             ],
             [
              0.1111111111111111,
              "#000012"
             ],
             [
              0.2222222222222222,
              "#000013"
             ],
             [
              0.3333333333333333,
              "#000014"
             ],
             [
              0.4444444444444444,
              "#000015"
             ],
             [
              0.5555555555555556,
              "#000016"
             ],
             [
              0.6666666666666666,
              "#000017"
             ],
             [
              0.7777777777777778,
              "#000018"
             ],
             [
              0.8888888888888888,
              "#000019"
             ],
             [
              1,
              "#000020"
             ]
            ],
            "type": "contour"
           }
          ],
          "contourcarpet": [
           {
            "colorscale": [
             [
              0,
              "#000011"
             ],
             [
              0.1111111111111111,
              "#000012"
             ],
             [
              0.2222222222222222,
              "#000013"
             ],
             [
              0.3333333333333333,
              "#000014"
             ],
             [
              0.4444444444444444,
              "#000015"
             ],
             [
              0.5555555555555556,
              "#000016"
             ],
             [
              0.6666666666666666,
              "#000017"
             ],
             [
              0.7777777777777778,
              "#000018"
             ],
             [
              0.8888888888888888,
              "#000019"
             ],
             [
              1,
              "#000020"
             ]
            ],
            "type": "contourcarpet"
           }
          ],
          "heatmap": [
           {
            "colorscale": [
             [
              0,
              "#000011"
             ],
             [
              0.1111111111111111,
              "#000012"
             ],
             [
              0.2222222222222222,
              "#000013"
             ],
             [
              0.3333333333333333,
              "#000014"
             ],
             [
              0.4444444444444444,
              "#000015"
             ],
             [
              0.5555555555555556,
              "#000016"
             ],
             [
              0.6666666666666666,
              "#000017"
             ],
             [
              0.7777777777777778,
              "#000018"
             ],
             [
              0.8888888888888888,
              "#000019"
             ],
             [
              1,
              "#000020"
             ]
            ],
            "type": "heatmap"
           }
          ],
          "histogram2d": [
           {
            "colorscale": [
             [
              0,
              "#000011"
             ],
             [
              0.1111111111111111,
              "#000012"
             ],
             [
              0.2222222222222222,
              "#000013"
             ],
             [
              0.3333333333333333,
              "#000014"
             ],
             [
              0.4444444444444444,
              "#000015"
             ],
             [
              0.5555555555555556,
              "#000016"
             ],
             [
              0.6666666666666666,
              "#000017"
             ],
             [
              0.7777777777777778,
              "#000018"
             ],
             [
              0.8888888888888888,
              "#000019"
             ],
             [
              1,
              "#000020"
             ]
            ],
            "type": "histogram2d"
           }
          ],
          "icicle": [
           {
            "textfont": {
             "color": "white"
            },
            "type": "icicle"
           }
          ],
          "sankey": [
           {
            "textfont": {
             "color": "#000036"
            },
            "type": "sankey"
           }
          ],
          "scatter": [
           {
            "marker": {
             "line": {
              "width": 0
             }
            },
            "type": "scatter"
           }
          ],
          "table": [
           {
            "cells": {
             "fill": {
              "color": "#000038"
             },
             "font": {
              "color": "#000037"
             },
             "line": {
              "color": "#000039"
             }
            },
            "header": {
             "fill": {
              "color": "#000040"
             },
             "font": {
              "color": "#000036"
             },
             "line": {
              "color": "#000039"
             }
            },
            "type": "table"
           }
          ],
          "waterfall": [
           {
            "connector": {
             "line": {
              "color": "#000036",
              "width": 2
             }
            },
            "decreasing": {
             "marker": {
              "color": "#000033"
             }
            },
            "increasing": {
             "marker": {
              "color": "#000032"
             }
            },
            "totals": {
             "marker": {
              "color": "#000034"
             }
            },
            "type": "waterfall"
           }
          ]
         },
         "layout": {
          "coloraxis": {
           "colorscale": [
            [
             0,
             "#000011"
            ],
            [
             0.1111111111111111,
             "#000012"
            ],
            [
             0.2222222222222222,
             "#000013"
            ],
            [
             0.3333333333333333,
             "#000014"
            ],
            [
             0.4444444444444444,
             "#000015"
            ],
            [
             0.5555555555555556,
             "#000016"
            ],
            [
             0.6666666666666666,
             "#000017"
            ],
            [
             0.7777777777777778,
             "#000018"
            ],
            [
             0.8888888888888888,
             "#000019"
            ],
            [
             1,
             "#000020"
            ]
           ]
          },
          "colorscale": {
           "diverging": [
            [
             0,
             "#000021"
            ],
            [
             0.1,
             "#000022"
            ],
            [
             0.2,
             "#000023"
            ],
            [
             0.3,
             "#000024"
            ],
            [
             0.4,
             "#000025"
            ],
            [
             0.5,
             "#000026"
            ],
            [
             0.6,
             "#000027"
            ],
            [
             0.7,
             "#000028"
            ],
            [
             0.8,
             "#000029"
            ],
            [
             0.9,
             "#000030"
            ],
            [
             1,
             "#000031"
            ]
           ],
           "sequential": [
            [
             0,
             "#000011"
            ],
            [
             0.1111111111111111,
             "#000012"
            ],
            [
             0.2222222222222222,
             "#000013"
            ],
            [
             0.3333333333333333,
             "#000014"
            ],
            [
             0.4444444444444444,
             "#000015"
            ],
            [
             0.5555555555555556,
             "#000016"
            ],
            [
             0.6666666666666666,
             "#000017"
            ],
            [
             0.7777777777777778,
             "#000018"
            ],
            [
             0.8888888888888888,
             "#000019"
            ],
            [
             1,
             "#000020"
            ]
           ],
           "sequentialminus": [
            [
             0,
             "#000011"
            ],
            [
             0.1111111111111111,
             "#000012"
            ],
            [
             0.2222222222222222,
             "#000013"
            ],
            [
             0.3333333333333333,
             "#000014"
            ],
            [
             0.4444444444444444,
             "#000015"
            ],
            [
             0.5555555555555556,
             "#000016"
            ],
            [
             0.6666666666666666,
             "#000017"
            ],
            [
             0.7777777777777778,
             "#000018"
            ],
            [
             0.8888888888888888,
             "#000019"
            ],
            [
             1,
             "#000020"
            ]
           ]
          },
          "colorway": [
           "#000001",
           "#000002",
           "#000003",
           "#000004",
           "#000005",
           "#000006",
           "#000007",
           "#000008",
           "#000009",
           "#000010"
          ]
         }
        },
        "title": {
         "text": "Media Type Distribution"
        }
       }
      }
     },
     "metadata": {},
     "output_type": "display_data"
    }
   ],
   "source": [
    "fig = px.pie(top_media_df, names='Media', values='count', title='Media Type Distribution')\n",
    "fig.show()"
   ]
  },
  {
   "cell_type": "code",
   "execution_count": null,
   "metadata": {},
   "outputs": [],
   "source": []
  }
 ],
 "metadata": {
  "kernelspec": {
   "display_name": "Python 3",
   "language": "python",
   "name": "python3"
  },
  "language_info": {
   "codemirror_mode": {
    "name": "ipython",
    "version": 3
   },
   "file_extension": ".py",
   "mimetype": "text/x-python",
   "name": "python",
   "nbconvert_exporter": "python",
   "pygments_lexer": "ipython3",
   "version": "3.10.13"
  },
  "orig_nbformat": 4
 },
 "nbformat": 4,
 "nbformat_minor": 2
}
